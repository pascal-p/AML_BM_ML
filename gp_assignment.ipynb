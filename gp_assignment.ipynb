{
  "nbformat": 4,
  "nbformat_minor": 0,
  "metadata": {
    "colab": {
      "name": "gp_assignment.ipynb",
      "version": "0.3.2",
      "provenance": [],
      "collapsed_sections": [],
      "include_colab_link": true
    },
    "kernelspec": {
      "display_name": "Python 3",
      "language": "python",
      "name": "python3"
    }
  },
  "cells": [
    {
      "cell_type": "markdown",
      "metadata": {
        "id": "view-in-github",
        "colab_type": "text"
      },
      "source": [
        "<a href=\"https://colab.research.google.com/github/pascal-p/AML_BM_ML/blob/master/gp_assignment.ipynb\" target=\"_parent\"><img src=\"https://colab.research.google.com/assets/colab-badge.svg\" alt=\"Open In Colab\"/></a>"
      ]
    },
    {
      "metadata": {
        "id": "VvKPC0Re_7xp",
        "colab_type": "text"
      },
      "cell_type": "markdown",
      "source": [
        "# First things first\n",
        "Click **File -> Save a copy in Drive** and click **Open in new tab** in the pop-up window to save your progress in Google Drive."
      ]
    },
    {
      "metadata": {
        "id": "XdQN7rgk_7xx",
        "colab_type": "text"
      },
      "cell_type": "markdown",
      "source": [
        "# Gaussian processes and Bayesian optimization"
      ]
    },
    {
      "metadata": {
        "id": "gee4LnYh_7x1",
        "colab_type": "text"
      },
      "cell_type": "markdown",
      "source": [
        "In this assignment you will learn how to use <a href=\"http://sheffieldml.github.io/GPy/\">GPy</a> and <a href=\"http://sheffieldml.github.io/GPyOpt/\">GPyOpt</a> libraries to deal with gaussian processes. These libraries provide quite simple and inuitive interfaces for training and inference, and we will try to get familiar with them in a few tasks."
      ]
    },
    {
      "metadata": {
        "id": "EDY5aa9a_7x7",
        "colab_type": "text"
      },
      "cell_type": "markdown",
      "source": [
        "### Setup\n",
        "Load auxiliary files and then install and import the necessary libraries."
      ]
    },
    {
      "metadata": {
        "id": "AvDNkhHT_7x_",
        "colab_type": "code",
        "colab": {
          "base_uri": "https://localhost:8080/",
          "height": 237
        },
        "outputId": "e7c34d15-72bb-4830-d61f-e1195d4110e2"
      },
      "cell_type": "code",
      "source": [
        "try:\n",
        "    import google.colab\n",
        "    IN_COLAB = True\n",
        "except:\n",
        "    IN_COLAB = False\n",
        "if IN_COLAB:\n",
        "    print(\"Downloading Colab files\")\n",
        "    ! shred -u setup_google_colab.py\n",
        "    ! wget https://raw.githubusercontent.com/hse-aml/bayesian-methods-for-ml/master/setup_google_colab.py -O setup_google_colab.py\n",
        "    import setup_google_colab\n",
        "    setup_google_colab.load_data_week6()"
      ],
      "execution_count": 1,
      "outputs": [
        {
          "output_type": "stream",
          "text": [
            "Downloading Colab files\n",
            "--2019-03-29 09:48:56--  https://raw.githubusercontent.com/hse-aml/bayesian-methods-for-ml/master/setup_google_colab.py\n",
            "Resolving raw.githubusercontent.com (raw.githubusercontent.com)... 151.101.0.133, 151.101.64.133, 151.101.128.133, ...\n",
            "Connecting to raw.githubusercontent.com (raw.githubusercontent.com)|151.101.0.133|:443... connected.\n",
            "HTTP request sent, awaiting response... 200 OK\n",
            "Length: 1308 (1.3K) [text/plain]\n",
            "Saving to: ‘setup_google_colab.py’\n",
            "\n",
            "setup_google_colab. 100%[===================>]   1.28K  --.-KB/s    in 0s      \n",
            "\n",
            "2019-03-29 09:48:56 (257 MB/s) - ‘setup_google_colab.py’ saved [1308/1308]\n",
            "\n"
          ],
          "name": "stdout"
        }
      ]
    },
    {
      "metadata": {
        "id": "R8vY6_5D_7yL",
        "colab_type": "code",
        "colab": {
          "base_uri": "https://localhost:8080/",
          "height": 164
        },
        "outputId": "760906b9-409c-43b6-aa39-c9bddae33f6d"
      },
      "cell_type": "code",
      "source": [
        "! pip install GPy gpyopt xgboost"
      ],
      "execution_count": 2,
      "outputs": [
        {
          "output_type": "stream",
          "text": [
            "Requirement already satisfied: GPy in /usr/local/lib/python3.6/dist-packages (1.9.6)\n",
            "Requirement already satisfied: gpyopt in /usr/local/lib/python3.6/dist-packages (1.2.5)\n",
            "Requirement already satisfied: xgboost in /usr/local/lib/python3.6/dist-packages (0.7.post4)\n",
            "Requirement already satisfied: scipy>=0.16 in /usr/local/lib/python3.6/dist-packages (from GPy) (1.1.0)\n",
            "Requirement already satisfied: six in /usr/local/lib/python3.6/dist-packages (from GPy) (1.11.0)\n",
            "Requirement already satisfied: numpy>=1.7 in /usr/local/lib/python3.6/dist-packages (from GPy) (1.14.6)\n",
            "Requirement already satisfied: paramz>=0.9.0 in /usr/local/lib/python3.6/dist-packages (from GPy) (0.9.4)\n",
            "Requirement already satisfied: decorator>=4.0.10 in /usr/local/lib/python3.6/dist-packages (from paramz>=0.9.0->GPy) (4.4.0)\n"
          ],
          "name": "stdout"
        }
      ]
    },
    {
      "metadata": {
        "id": "uaSNqSd1_7yY",
        "colab_type": "code",
        "colab": {}
      },
      "cell_type": "code",
      "source": [
        "import numpy as np\n",
        "import GPy\n",
        "import GPyOpt\n",
        "import matplotlib.pyplot as plt\n",
        "from sklearn.svm import SVR\n",
        "import sklearn.datasets\n",
        "from xgboost import XGBRegressor\n",
        "from sklearn.model_selection import cross_val_score\n",
        "import time\n",
        "from w6_grader import GPGrader\n",
        "%matplotlib inline"
      ],
      "execution_count": 0,
      "outputs": []
    },
    {
      "metadata": {
        "id": "tkadTy6d_7yf",
        "colab_type": "text"
      },
      "cell_type": "markdown",
      "source": [
        "### Grading\n",
        "We will create a grader instance below and use it to collect your answers. Note that these outputs will be stored locally inside grader and will be uploaded to platform only after running submiting function in the last part of this assignment. If you want to make partial submission, you can run that cell any time you want."
      ]
    },
    {
      "metadata": {
        "id": "1GBMGmPM_7yi",
        "colab_type": "code",
        "colab": {}
      },
      "cell_type": "code",
      "source": [
        "grader = GPGrader()"
      ],
      "execution_count": 0,
      "outputs": []
    },
    {
      "metadata": {
        "id": "dBLSgzbL_7yo",
        "colab_type": "text"
      },
      "cell_type": "markdown",
      "source": [
        "## Gaussian processes: GPy (<a href=\"http://pythonhosted.org/GPy/\">documentation [?]</a> or <a href=\"https://pypi.org/project/GPy/\">documentation </a>)"
      ]
    },
    {
      "metadata": {
        "collapsed": true,
        "id": "G7po0ZFz_7yr",
        "colab_type": "text"
      },
      "cell_type": "markdown",
      "source": [
        "We will start with a simple regression problem, for which we will try to fit a Gaussian Process with RBF kernel."
      ]
    },
    {
      "metadata": {
        "id": "Ic4LqZhV_7yv",
        "colab_type": "code",
        "colab": {}
      },
      "cell_type": "code",
      "source": [
        "def generate_points(n=25, noise_variance=0.0036):\n",
        "    np.random.seed(777)\n",
        "    X = np.random.uniform(-3., 3., (n, 1))\n",
        "    y = np.sin(X) + np.random.randn(n, 1) * noise_variance**0.5\n",
        "    return X, y\n",
        "    \n",
        "def generate_noise(n=25, noise_variance=0.0036):\n",
        "    np.random.seed(777)\n",
        "    X = np.random.uniform(-3., 3., (n, 1))\n",
        "    y = np.random.randn(n, 1) * noise_variance**0.5\n",
        "    return X, y"
      ],
      "execution_count": 0,
      "outputs": []
    },
    {
      "metadata": {
        "id": "obYIr6-k_7y7",
        "colab_type": "code",
        "colab": {
          "base_uri": "https://localhost:8080/",
          "height": 265
        },
        "outputId": "a2bf032f-f947-4cf4-ef17-1604992bcb93"
      },
      "cell_type": "code",
      "source": [
        "# Create data points\n",
        "X, y = generate_points()\n",
        "plt.plot(X, y, '.')\n",
        "plt.show()"
      ],
      "execution_count": 28,
      "outputs": [
        {
          "output_type": "display_data",
          "data": {
            "image/png": "[encoded data removed]",
            "text/plain": [
              "<Figure size 432x288 with 1 Axes>"
            ]
          },
          "metadata": {
            "tags": []
          }
        }
      ]
    },
    {
      "metadata": {
        "id": "i9SnZIr1_7zH",
        "colab_type": "text"
      },
      "cell_type": "markdown",
      "source": [
        "To fit a Gaussian Process, you will need to define a kernel. For Gaussian (GBF) kernel you can use `GPy.kern.RBF` function."
      ]
    },
    {
      "metadata": {
        "id": "YmJXP7gY_7zK",
        "colab_type": "text"
      },
      "cell_type": "markdown",
      "source": [
        "<b> Task 1.1: </b> Create RBF kernel with variance 1.5 and length-scale parameter 2 for 1D samples and compute value of the kernel between points `X[5]` and `X[9]`. Submit a single number. \n",
        "<br><b>Hint:</b> use `.K` property of kernel object."
      ]
    },
    {
      "metadata": {
        "id": "7AO5jN3d_7zM",
        "colab_type": "code",
        "colab": {
          "base_uri": "https://localhost:8080/",
          "height": 35
        },
        "outputId": "49c1ce77-24db-40c2-a85c-e7f7f02cfd8f"
      },
      "cell_type": "code",
      "source": [
        "inp_dim = 1   # input dimension\n",
        "var = 1.5     # variance \n",
        "len_scale = 2 # length scale\n",
        "\n",
        "kernel = GPy.kern.RBF(inp_dim, variance=var, lengthscale=len_scale)  ### YOUR CODE HERE\n",
        "kernel_59 = kernel.K(X, X)[5, 9] ### YOUR CODE HERE\n",
        "grader.submit_GPy_1(kernel_59)"
      ],
      "execution_count": 29,
      "outputs": [
        {
          "output_type": "stream",
          "text": [
            "Current answer for task 1.1 is: 1.0461813545396959\n"
          ],
          "name": "stdout"
        }
      ]
    },
    {
      "metadata": {
        "id": "qLD1LIT4_7zZ",
        "colab_type": "text"
      },
      "cell_type": "markdown",
      "source": [
        "<b> Task 1.2: </b> Fit GP into generated data. Use kernel from previous task. Submit predicted mean and variance at position $x=1$.\n",
        "<br><b>Hint:</b> use `GPy.models.GPRegression` class."
      ]
    },
    {
      "metadata": {
        "id": "lnAnJyBf_7za",
        "colab_type": "code",
        "colab": {
          "base_uri": "https://localhost:8080/",
          "height": 531
        },
        "outputId": "b24621c6-55b7-4b79-86b0-d9b51616826d"
      },
      "cell_type": "code",
      "source": [
        "### YOUR CODE HERE\n",
        "# x1 = np.array([X[1]])\n",
        "print(\"X: \" + str(X))\n",
        "\n",
        "model = GPy.models.GPRegression(X, y, kernel=kernel)\n",
        "mean, variance = model.predict(np.array([[1]]))\n",
        "\n",
        "mean = mean[0][0]\n",
        "variance = variance[0][0]\n",
        "print(\" mean: \" + str(mean) + \" / variance: \" + str(variance))\n",
        "\n",
        "grader.submit_GPy_2(mean, variance)"
      ],
      "execution_count": 30,
      "outputs": [
        {
          "output_type": "stream",
          "text": [
            "X: [[-2.08401759]\n",
            " [-1.18586034]\n",
            " [-2.62778151]\n",
            " [-0.24083795]\n",
            " [ 2.01152031]\n",
            " [ 2.56198229]\n",
            " [ 1.36193391]\n",
            " [ 1.61097733]\n",
            " [-1.3847696 ]\n",
            " [ 0.86417575]\n",
            " [-2.43976046]\n",
            " [-2.52188469]\n",
            " [ 0.53768252]\n",
            " [-0.93995677]\n",
            " [ 2.93325689]\n",
            " [ 0.75883924]\n",
            " [ 1.09067568]\n",
            " [ 0.31354088]\n",
            " [-1.38683965]\n",
            " [-0.76044368]\n",
            " [-1.66243141]\n",
            " [-1.8813444 ]\n",
            " [-0.65611144]\n",
            " [-1.84102557]\n",
            " [ 0.66546559]]\n",
            " mean: 0.6646774926102937 / variance: 1.1001478223790582\n",
            "Current answer for task 1.2 (mean) is: 0.6646774926102937\n",
            "Current answer for task 1.2 (variance) is: 1.1001478223790582\n"
          ],
          "name": "stdout"
        }
      ]
    },
    {
      "metadata": {
        "id": "NAiGiVy3_7zg",
        "colab_type": "code",
        "colab": {
          "base_uri": "https://localhost:8080/",
          "height": 297
        },
        "outputId": "e99f0a8c-2703-4d6a-f348-0d13e751626a"
      },
      "cell_type": "code",
      "source": [
        "model.plot()\n",
        "plt.show()"
      ],
      "execution_count": 13,
      "outputs": [
        {
          "output_type": "display_data",
          "data": {
            "image/png": "[encoded data removed]",
            "text/plain": [
              "<Figure size 432x288 with 1 Axes>"
            ]
          },
          "metadata": {
            "tags": []
          }
        }
      ]
    },
    {
      "metadata": {
        "id": "0VCO4_Bl_7zp",
        "colab_type": "text"
      },
      "cell_type": "markdown",
      "source": [
        "We see that the model didn't fit the data quite well. Let's try to fit kernel and noise parameters automatically as discussed in the lecture! You can see the current parameters below:"
      ]
    },
    {
      "metadata": {
        "id": "PgETc_46_7zs",
        "colab_type": "code",
        "colab": {
          "base_uri": "https://localhost:8080/",
          "height": 224
        },
        "outputId": "02f1ee24-5f0d-44af-c79f-477220a00590"
      },
      "cell_type": "code",
      "source": [
        "# print(\" model.Gaussian_noise.variance: \" + str(model.Gaussian_noise.variance))\n",
        "model\n"
      ],
      "execution_count": 14,
      "outputs": [
        {
          "output_type": "execute_result",
          "data": {
            "text/html": [
              "<style type=\"text/css\">\n",
              ".pd{\n",
              "    font-family: \"Courier New\", Courier, monospace !important;\n",
              "    width: 100%;\n",
              "    padding: 3px;\n",
              "}\n",
              "</style>\n",
              "\n",
              "<p class=pd>\n",
              "<b>Model</b>: GP regression<br>\n",
              "<b>Objective</b>: 27.86687636693494<br>\n",
              "<b>Number of Parameters</b>: 3<br>\n",
              "<b>Number of Optimization Parameters</b>: 3<br>\n",
              "<b>Updates</b>: True<br>\n",
              "</p>\n",
              "<style type=\"text/css\">\n",
              ".tg  {font-family:\"Courier New\", Courier, monospace !important;padding:2px 3px;word-break:normal;border-collapse:collapse;border-spacing:0;border-color:#DCDCDC;margin:0px auto;width:100%;}\n",
              ".tg td{font-family:\"Courier New\", Courier, monospace !important;font-weight:bold;color:#444;background-color:#F7FDFA;border-style:solid;border-width:1px;overflow:hidden;word-break:normal;border-color:#DCDCDC;}\n",
              ".tg th{font-family:\"Courier New\", Courier, monospace !important;font-weight:normal;color:#fff;background-color:#26ADE4;border-style:solid;border-width:1px;overflow:hidden;word-break:normal;border-color:#DCDCDC;}\n",
              ".tg .tg-left{font-family:\"Courier New\", Courier, monospace !important;font-weight:normal;text-align:left;}\n",
              ".tg .tg-center{font-family:\"Courier New\", Courier, monospace !important;font-weight:normal;text-align:center;}\n",
              ".tg .tg-right{font-family:\"Courier New\", Courier, monospace !important;font-weight:normal;text-align:right;}\n",
              "</style>\n",
              "<table class=\"tg\"><tr><th><b>  GP_regression.         </b></th><th><b>value</b></th><th><b>constraints</b></th><th><b>priors</b></th></tr>\n",
              "<tr><td class=tg-left>  rbf.variance           </td><td class=tg-right>  1.5</td><td class=tg-center>    +ve    </td><td class=tg-center>      </td></tr>\n",
              "<tr><td class=tg-left>  rbf.lengthscale        </td><td class=tg-right>  2.0</td><td class=tg-center>    +ve    </td><td class=tg-center>      </td></tr>\n",
              "<tr><td class=tg-left>  Gaussian_noise.variance</td><td class=tg-right>  1.0</td><td class=tg-center>    +ve    </td><td class=tg-center>      </td></tr>\n",
              "</table>"
            ],
            "text/plain": [
              "<GPy.models.gp_regression.GPRegression at 0x7fb05df368d0>"
            ]
          },
          "metadata": {
            "tags": []
          },
          "execution_count": 14
        }
      ]
    },
    {
      "metadata": {
        "id": "2HDfQ4oT_7z5",
        "colab_type": "text"
      },
      "cell_type": "markdown",
      "source": [
        "<b> Task 1.3: </b> Optimize length-scale, variance and noise component of the model and submit optimal length-scale value of the kernel. \n",
        "<br><b>Hint:</b> Use `.optimize()` function of the model and `.lengthscale` property of the kernel."
      ]
    },
    {
      "metadata": {
        "id": "vkqO2JZg_7z7",
        "colab_type": "code",
        "colab": {
          "base_uri": "https://localhost:8080/",
          "height": 35
        },
        "outputId": "e91b2a79-9e6a-4c3e-9d5f-fef87ece2daa"
      },
      "cell_type": "code",
      "source": [
        "### YOUR CODE HERE\n",
        "model.optimize()\n",
        "\n",
        "lengthscale = kernel.lengthscale\n",
        "grader.submit_GPy_3(lengthscale)"
      ],
      "execution_count": 15,
      "outputs": [
        {
          "output_type": "stream",
          "text": [
            "Current answer for task 1.3 is: 1.6252681650349912\n"
          ],
          "name": "stdout"
        }
      ]
    },
    {
      "metadata": {
        "id": "Q1gYRJSz_70E",
        "colab_type": "code",
        "colab": {
          "base_uri": "https://localhost:8080/",
          "height": 297
        },
        "outputId": "3defceeb-6996-4838-ab87-574b8435a50f"
      },
      "cell_type": "code",
      "source": [
        "model.plot()\n",
        "plt.show()"
      ],
      "execution_count": 16,
      "outputs": [
        {
          "output_type": "display_data",
          "data": {
            "image/png": "[encoded data removed]",
            "text/plain": [
              "<Figure size 432x288 with 1 Axes>"
            ]
          },
          "metadata": {
            "tags": []
          }
        }
      ]
    },
    {
      "metadata": {
        "id": "0oUQWfuy_70K",
        "colab_type": "text"
      },
      "cell_type": "markdown",
      "source": [
        "As you see, the process generates outputs just right. Let's see if GP can figure out itself when we try to fit it into noise or signal."
      ]
    },
    {
      "metadata": {
        "id": "bUv1fg_a_70Q",
        "colab_type": "text"
      },
      "cell_type": "markdown",
      "source": [
        "<b> Task 1.4: </b> Generate two datasets: \n",
        " \n",
        "*   sinusoid without noise and \n",
        "*   samples from gaussian noise.\n",
        "\n",
        "\n",
        "Optimize kernel parameters and submit optimal values of noise component.\n",
        "<br><b>Note:</b> generate data only using ```generate_points(n, noise_variance)``` and ```generate_noise(n, noise_variance)``` function!"
      ]
    },
    {
      "metadata": {
        "id": "wSq1VHcW_70V",
        "colab_type": "code",
        "colab": {}
      },
      "cell_type": "code",
      "source": [
        "X, y = generate_noise(noise_variance=10)\n",
        "\n",
        "### YOUR CODE HERE\n",
        "model = GPy.models.GPRegression(X, y, kernel=kernel)\n",
        "model.optimize()\n",
        "\n",
        "noise = model.Gaussian_noise.variance"
      ],
      "execution_count": 0,
      "outputs": []
    },
    {
      "metadata": {
        "id": "giFk8wwr_70e",
        "colab_type": "code",
        "colab": {}
      },
      "cell_type": "code",
      "source": [
        "X, y = generate_points(noise_variance=0)\n",
        "### YOUR CODE HERE\n",
        "\n",
        "X, y = generate_points(noise_variance=0.)\n",
        "model = GPy.models.GPRegression(X, y, kernel=kernel)\n",
        "model.optimize()\n",
        "\n",
        "just_signal = model.Gaussian_noise.variance"
      ],
      "execution_count": 0,
      "outputs": []
    },
    {
      "metadata": {
        "id": "13gvoZ3N_70l",
        "colab_type": "code",
        "colab": {
          "base_uri": "https://localhost:8080/",
          "height": 54
        },
        "outputId": "aa207f2d-4bb4-48c4-fc7f-ed03c3e058a2"
      },
      "cell_type": "code",
      "source": [
        "# just_signal == variance of model w/o noise aka Gaussian_noise.variance\n",
        "grader.submit_GPy_4(noise, just_signal)"
      ],
      "execution_count": 19,
      "outputs": [
        {
          "output_type": "stream",
          "text": [
            "Current answer for task 1.4 (noise) is: 10.143329676224383\n",
            "Current answer for task 1.4 (just signal) is: 1.4982810919653512e-14\n"
          ],
          "name": "stdout"
        }
      ]
    },
    {
      "metadata": {
        "id": "IRr1iyw9_70q",
        "colab_type": "text"
      },
      "cell_type": "markdown",
      "source": [
        "## Sparse GP\n",
        "Now let's consider the speed of GP. We will generate a dataset of 3000 points and measure the time that is consumed for prediction of mean and variance for each point. We will then try to use inducing inputs and find the optimal number of points according to quality-time tradeoff.\n",
        "\n",
        "For the sparse model with inducing points, you should use ```GPy.models.SparseGPRegression``` class. You can set the number of inducing inputs with parameter ```num_inducing``` and optimize their positions and values with ```.optimize()``` call."
      ]
    },
    {
      "metadata": {
        "id": "8b-7kf6P_70t",
        "colab_type": "text"
      },
      "cell_type": "markdown",
      "source": [
        "<b>Task 1.5</b>: Create a dataset of 1000 points and fit GPRegression. Measure time for predicting mean and variance at position $x=1$. Then fit `SparseGPRegression` with 10 inducing inputs and repeat the experiment. Report speedup as a ratio between consumed time without and with inducing inputs."
      ]
    },
    {
      "metadata": {
        "id": "u-Qgd0il_704",
        "colab_type": "code",
        "colab": {}
      },
      "cell_type": "code",
      "source": [
        "X, y = generate_points(1000)"
      ],
      "execution_count": 0,
      "outputs": []
    },
    {
      "metadata": {
        "id": "Po3KtblU_70_",
        "colab_type": "code",
        "colab": {}
      },
      "cell_type": "code",
      "source": [
        "start = time.time()\n",
        "\n",
        "### YOUR CODE HERE\n",
        "model = GPy.models.GPRegression(X, y, kernel=kernel)\n",
        "x1 = np.array([X[1]])\n",
        "mean, variance = model.predict(x1)\n",
        "\n",
        "time_gp = time.time() - start"
      ],
      "execution_count": 0,
      "outputs": []
    },
    {
      "metadata": {
        "id": "wR8XPVxh_71L",
        "colab_type": "code",
        "colab": {}
      },
      "cell_type": "code",
      "source": [
        "start = time.time()\n",
        "\n",
        "### YOUR CODE HERE\n",
        "model = GPy.models.SparseGPRegression(X, y, num_inducing=10, kernel=kernel)\n",
        "x1 = np.array([X[1]])\n",
        "mean, variance = model.predict(x1)\n",
        "\n",
        "time_sgp = time.time() - start"
      ],
      "execution_count": 0,
      "outputs": []
    },
    {
      "metadata": {
        "id": "A_R2ifDW_71R",
        "colab_type": "code",
        "colab": {
          "base_uri": "https://localhost:8080/",
          "height": 297
        },
        "outputId": "e4da0958-7b61-4a21-b148-39a6f1092116"
      },
      "cell_type": "code",
      "source": [
        "model.plot()\n",
        "plt.show()"
      ],
      "execution_count": 23,
      "outputs": [
        {
          "output_type": "display_data",
          "data": {
            "image/png": "[encoded data removed]",
            "text/plain": [
              "<Figure size 432x288 with 1 Axes>"
            ]
          },
          "metadata": {
            "tags": []
          }
        }
      ]
    },
    {
      "metadata": {
        "id": "VO0r7xUW_71b",
        "colab_type": "code",
        "colab": {
          "base_uri": "https://localhost:8080/",
          "height": 35
        },
        "outputId": "110dd77c-f67d-406c-efb3-f16f3dce294c"
      },
      "cell_type": "code",
      "source": [
        "grader.submit_GPy_5(time_gp / time_sgp)"
      ],
      "execution_count": 24,
      "outputs": [
        {
          "output_type": "stream",
          "text": [
            "Current answer for task 1.5 is: 4.204566911334504\n"
          ],
          "name": "stdout"
        }
      ]
    },
    {
      "metadata": {
        "id": "wGgYDxQR_71p",
        "colab_type": "text"
      },
      "cell_type": "markdown",
      "source": [
        "## Bayesian optimization: GPyOpt (<a href=\"http://pythonhosted.org/GPyOpt/\">documentation</a>, <a href=\"http://nbviewer.jupyter.org/github/SheffieldML/GPyOpt/blob/master/manual/index.ipynb\">tutorials</a>)"
      ]
    },
    {
      "metadata": {
        "id": "5aarVEvc_71u",
        "colab_type": "text"
      },
      "cell_type": "markdown",
      "source": [
        "In this part of the assignment, we will try to find optimal hyperparameters to XGBoost model! We will use data from a small competition to speed things up, but keep in mind that the approach works even for large datasets.\n",
        "\n",
        "We will use diabetes dataset provided in sklearn package."
      ]
    },
    {
      "metadata": {
        "id": "JwGVUWkM_71w",
        "colab_type": "code",
        "colab": {}
      },
      "cell_type": "code",
      "source": [
        "dataset = sklearn.datasets.load_diabetes()\n",
        "X = dataset['data']\n",
        "y = dataset['target']"
      ],
      "execution_count": 0,
      "outputs": []
    },
    {
      "metadata": {
        "id": "32k2Win9_714",
        "colab_type": "text"
      },
      "cell_type": "markdown",
      "source": [
        "We will use cross-validation score to estimate accuracy and our goal will be to tune:<br> ```max_depth```, ```learning_rate```, ```n_estimators``` parameters.<br>\n",
        "The baseline MSE with default XGBoost parameters is $0.2$. Let's see if we can do better. First, we have to define optimization function and domains."
      ]
    },
    {
      "metadata": {
        "id": "jWeqYf4P_715",
        "colab_type": "code",
        "colab": {}
      },
      "cell_type": "code",
      "source": [
        "# Score. Optimizer will try to find minimum, so we will add a \"-\" sign.\n",
        "def f(parameters):\n",
        "    parameters = parameters[0]\n",
        "    score = -cross_val_score(\n",
        "        XGBRegressor(learning_rate=parameters[0],\n",
        "                     max_depth=int(parameters[2]),\n",
        "                     n_estimators=int(parameters[3]),\n",
        "                     gamma=int(parameters[1]),\n",
        "                     min_child_weight = parameters[4]), \n",
        "        X, y, scoring='neg_mean_squared_error'\n",
        "    ).mean()\n",
        "    score = np.array(score)\n",
        "    return score"
      ],
      "execution_count": 0,
      "outputs": []
    },
    {
      "metadata": {
        "id": "kJXO-P9j_71_",
        "colab_type": "code",
        "colab": {
          "base_uri": "https://localhost:8080/",
          "height": 35
        },
        "outputId": "15329504-7058-4aca-d4bf-b65de584a71a"
      },
      "cell_type": "code",
      "source": [
        "baseline = -cross_val_score(\n",
        "    XGBRegressor(), X, y, scoring='neg_mean_squared_error'\n",
        ").mean()\n",
        "baseline"
      ],
      "execution_count": 35,
      "outputs": [
        {
          "output_type": "execute_result",
          "data": {
            "text/plain": [
              "3498.951701204653"
            ]
          },
          "metadata": {
            "tags": []
          },
          "execution_count": 35
        }
      ]
    },
    {
      "metadata": {
        "id": "fmcbD7kr_72D",
        "colab_type": "code",
        "colab": {}
      },
      "cell_type": "code",
      "source": [
        "# Bounds (NOTE: define continuous variables first, then discrete!)\n",
        "bounds = [\n",
        "    {'name': 'learning_rate',\n",
        "     'type': 'continuous',\n",
        "     'domain': (0, 1)},\n",
        "\n",
        "    {'name': 'gamma',\n",
        "     'type': 'continuous',\n",
        "     'domain': (0, 5)},\n",
        "\n",
        "    {'name': 'max_depth',\n",
        "     'type': 'discrete',\n",
        "     'domain': (1, 50)},\n",
        "\n",
        "    {'name': 'n_estimators',\n",
        "     'type': 'discrete',\n",
        "     'domain': (1, 300)},\n",
        "\n",
        "    {'name': 'min_child_weight',\n",
        "     'type': 'discrete',\n",
        "     'domain': (1, 10)}\n",
        "]"
      ],
      "execution_count": 0,
      "outputs": []
    },
    {
      "metadata": {
        "scrolled": false,
        "id": "9iDmN2HQ_72I",
        "colab_type": "code",
        "colab": {}
      },
      "cell_type": "code",
      "source": [
        "np.random.seed(777)\n",
        "optimizer = GPyOpt.methods.BayesianOptimization(\n",
        "    f=f, domain=bounds,\n",
        "    acquisition_type ='MPI',\n",
        "    acquisition_par = 0.1,\n",
        "    exact_eval=True\n",
        ")"
      ],
      "execution_count": 0,
      "outputs": []
    },
    {
      "metadata": {
        "id": "BYY_Oim5_72M",
        "colab_type": "code",
        "colab": {}
      },
      "cell_type": "code",
      "source": [
        "max_iter = 50\n",
        "max_time = 60\n",
        "optimizer.run_optimization(max_iter, max_time)"
      ],
      "execution_count": 0,
      "outputs": []
    },
    {
      "metadata": {
        "id": "535nSwBo_72P",
        "colab_type": "code",
        "colab": {
          "base_uri": "https://localhost:8080/",
          "height": 349
        },
        "outputId": "adee1005-0ab3-4b31-8cde-9716edd6f179"
      },
      "cell_type": "code",
      "source": [
        "optimizer.plot_convergence()"
      ],
      "execution_count": 39,
      "outputs": [
        {
          "output_type": "display_data",
          "data": {
            "image/png": "[encoded data removed]",
            "text/plain": [
              "<Figure size 720x360 with 2 Axes>"
            ]
          },
          "metadata": {
            "tags": []
          }
        }
      ]
    },
    {
      "metadata": {
        "id": "MCb8Dexo_72R",
        "colab_type": "text"
      },
      "cell_type": "markdown",
      "source": [
        "Best values of parameters:"
      ]
    },
    {
      "metadata": {
        "id": "KBqzEHzN_72S",
        "colab_type": "code",
        "colab": {
          "base_uri": "https://localhost:8080/",
          "height": 54
        },
        "outputId": "ffc29582-f575-43f1-9155-24123aa8eb41"
      },
      "cell_type": "code",
      "source": [
        "optimizer.X[np.argmin(optimizer.Y)]"
      ],
      "execution_count": 40,
      "outputs": [
        {
          "output_type": "execute_result",
          "data": {
            "text/plain": [
              "array([9.22836856e-02, 1.89172284e+00, 1.00000000e+00, 3.00000000e+02,\n",
              "       1.00000000e+00])"
            ]
          },
          "metadata": {
            "tags": []
          },
          "execution_count": 40
        }
      ]
    },
    {
      "metadata": {
        "id": "9WbjUZ2Y_72W",
        "colab_type": "code",
        "colab": {
          "base_uri": "https://localhost:8080/",
          "height": 35
        },
        "outputId": "053553a1-c962-4a81-b296-219302d2987d"
      },
      "cell_type": "code",
      "source": [
        "print('MSE:', np.min(optimizer.Y),\n",
        "      'Gain:', baseline/np.min(optimizer.Y)*100)"
      ],
      "execution_count": 41,
      "outputs": [
        {
          "output_type": "stream",
          "text": [
            "MSE: 3192.9357292803816 Gain: 109.58415695994108\n"
          ],
          "name": "stdout"
        }
      ]
    },
    {
      "metadata": {
        "id": "5kxriE_L_72a",
        "colab_type": "text"
      },
      "cell_type": "markdown",
      "source": [
        "We were able to get 9% boost without tuning parameters by hand! Let's see if you can do the same. "
      ]
    },
    {
      "metadata": {
        "id": "VfhMng65_72c",
        "colab_type": "text"
      },
      "cell_type": "markdown",
      "source": [
        "<b>Task 2.1:</b> Tune SVR model.<br> Find optimal values for three parameters: `C`, `epsilon` and `gamma`.\n",
        "<br>Use range (1e-5, 1000) for `C`, (1e-5, 10) for `epsilon` and `gamma`. \n",
        "<br>Use MPI as an acquisition function with weight 0.1. Submit the optimal value of epsilon that was found by a model."
      ]
    },
    {
      "metadata": {
        "id": "gMUj5ZXQ_72e",
        "colab_type": "code",
        "colab": {
          "base_uri": "https://localhost:8080/",
          "height": 422
        },
        "outputId": "9fd37310-d245-49a9-d3d0-d6ed6ce3a0a2"
      },
      "cell_type": "code",
      "source": [
        "### YOUR CODE HERE\n",
        "baseline = -cross_val_score(\n",
        "    SVR(), X, y, scoring='neg_mean_squared_error'\n",
        ").mean()\n",
        "print('baseline: ' + str(baseline))\n",
        "\n",
        "bounds = [\n",
        "   {'name': 'C', 'type': 'continuous', 'domain': (1e-5, 1000)},\n",
        "   {'name': 'epsilon', 'type': 'continuous', 'domain': (1e-5, 10)},\n",
        "   {'name': 'gamma', 'type': 'continuous', 'domain': (1e-5, 10)}\n",
        "]\n",
        "\n",
        "# \n",
        "# Score. Optimizer will try to find minimum, so we will add a \"-\" sign.\n",
        "def f(parameters):\n",
        "    parameters = parameters[0]\n",
        "    score = -cross_val_score(\n",
        "        SVR(C=parameters[0],\n",
        "            epsilon=parameters[1],\n",
        "            gamma=parameters[2]), \n",
        "        X, y, scoring='neg_mean_squared_error'\n",
        "    ).mean()\n",
        "    score = np.array(score)\n",
        "    return score\n",
        "\n",
        "np.random.seed(777)\n",
        "optimizer = GPyOpt.methods.BayesianOptimization(\n",
        "    f=f, domain=bounds,\n",
        "    acquisition_type ='MPI',\n",
        "    acquisition_par = 0.1,\n",
        "    exact_eval=True\n",
        ")\n",
        "\n",
        "max_iter = 50 * 2\n",
        "max_time = 60 * 4\n",
        "optimizer.run_optimization(max_iter, max_time)\n",
        "\n",
        "optimizer.plot_convergence()\n",
        "\n",
        "res = optimizer.X[np.argmin(optimizer.Y)]\n",
        "print(\" res: \" + str(res))\n",
        "\n",
        "best_epsilon = res[2] ### YOUR CODE HERE\n",
        "print('best_epsilon: ' + str(best_epsilon))\n",
        "\n",
        "grader.submit_GPyOpt_1(best_epsilon)"
      ],
      "execution_count": 60,
      "outputs": [
        {
          "output_type": "stream",
          "text": [
            "baseline: 6067.652263997995\n"
          ],
          "name": "stdout"
        },
        {
          "output_type": "display_data",
          "data": {
            "image/png": "[encoded data removed]",
            "text/plain": [
              "<Figure size 720x360 with 2 Axes>"
            ]
          },
          "metadata": {
            "tags": []
          }
        },
        {
          "output_type": "stream",
          "text": [
            " res: [35.80338868  9.78062688  8.28061105]\n",
            "best_epsilon: 8.28061105289118\n",
            "Current answer for task 2.1 is: 8.28061105289118\n"
          ],
          "name": "stdout"
        }
      ]
    },
    {
      "metadata": {
        "id": "oR0B0-eD_72l",
        "colab_type": "text"
      },
      "cell_type": "markdown",
      "source": [
        "<b>Task 2.2:</b> For the model above submit boost in improvement that you got after tuning hyperparameters (output percents) [e.g. if baseline MSE was 40 and you got 20, output number 200]"
      ]
    },
    {
      "metadata": {
        "id": "jXbOsQkD_72m",
        "colab_type": "code",
        "colab": {
          "base_uri": "https://localhost:8080/",
          "height": 90
        },
        "outputId": "179e9839-db69-41b5-be2c-77bb727e8b89"
      },
      "cell_type": "code",
      "source": [
        "print('baseline : ' + str(baseline))\n",
        "\n",
        "min_opt = np.min(optimizer.Y)\n",
        "print('opt.min : ' + str(min_opt))\n",
        "\n",
        "performance_boost = baseline / min_opt ### YOUR CODE HERE\n",
        "grader.submit_GPyOpt_2(performance_boost*100)"
      ],
      "execution_count": 65,
      "outputs": [
        {
          "output_type": "stream",
          "text": [
            "baseline : 6067.652263997995\n",
            "opt.max : 6103.6576915747355\n",
            "opt.min : 2934.214570852324\n",
            "Current answer for task 2.2 is: 206.78965758920205\n"
          ],
          "name": "stdout"
        }
      ]
    },
    {
      "metadata": {
        "id": "EnZ39wP6_72r",
        "colab_type": "text"
      },
      "cell_type": "markdown",
      "source": [
        "# Authorization & Submission\n",
        "To submit assignment parts to Cousera platform, please, enter your e-mail and token into variables below. You can generate a token on this programming assignment's page. <b>Note:</b> The token expires 30 minutes after generation."
      ]
    },
    {
      "metadata": {
        "id": "3HRIX7nM_72u",
        "colab_type": "code",
        "colab": {
          "base_uri": "https://localhost:8080/",
          "height": 201
        },
        "outputId": "e6f7877c-fe58-47bf-a78b-a3841ea21884"
      },
      "cell_type": "code",
      "source": [
        "STUDENT_EMAIL = 'lacsap_666@yahoo.fr' # EMAIL HERE\n",
        "STUDENT_TOKEN = 'kTnNRZVZ0jdbL8i6' # TOKEN HERE\n",
        "grader.status()"
      ],
      "execution_count": 66,
      "outputs": [
        {
          "output_type": "stream",
          "text": [
            "You want to submit these numbers:\n",
            "Task 1.1: 1.0461813545396959\n",
            "Task 1.2 (mean): 0.6646774926102937\n",
            "Task 1.2 (variance): 1.1001478223790582\n",
            "Task 1.3: 1.6252681650349912\n",
            "Task 1.4 (noise): 10.143329676224383\n",
            "Task 1.4 (just signal): 1.4982810919653512e-14\n",
            "Task 1.5: 4.204566911334504\n",
            "Task 2.1: 8.28061105289118\n",
            "Task 2.2: 206.78965758920205\n"
          ],
          "name": "stdout"
        }
      ]
    },
    {
      "metadata": {
        "id": "_HFVxPWC_72y",
        "colab_type": "text"
      },
      "cell_type": "markdown",
      "source": [
        "If you want to submit these answers, run cell below"
      ]
    },
    {
      "metadata": {
        "id": "KdzfsCml_72y",
        "colab_type": "code",
        "colab": {
          "base_uri": "https://localhost:8080/",
          "height": 35
        },
        "outputId": "eb091684-fb7a-41c6-eb86-5cbce40ddfa0"
      },
      "cell_type": "code",
      "source": [
        "grader.submit(STUDENT_EMAIL, STUDENT_TOKEN)"
      ],
      "execution_count": 67,
      "outputs": [
        {
          "output_type": "stream",
          "text": [
            "Submitted to Coursera platform. See results on assignment page!\n"
          ],
          "name": "stdout"
        }
      ]
    },
    {
      "metadata": {
        "id": "y-XRmfeF0Ck4",
        "colab_type": "code",
        "colab": {}
      },
      "cell_type": "code",
      "source": [
        ""
      ],
      "execution_count": 0,
      "outputs": []
    }
  ]
}