{
 "cells": [
  {
   "cell_type": "markdown",
   "metadata": {
    "colab_type": "text",
    "id": "jlo4V6MRBEDQ"
   },
   "source": [
    "# First things first\n",
    "Click **File -> Save a copy in Drive** and click **Open in new tab** in the pop-up window to save your progress in Google Drive."
   ]
  },
  {
   "cell_type": "markdown",
   "metadata": {
    "colab_type": "text",
    "id": "WMlNHfVxBEDT"
   },
   "source": [
    "# Expectation-maximization algorithm"
   ]
  },
  {
   "cell_type": "markdown",
   "metadata": {
    "colab_type": "text",
    "id": "icS4MsxIBEDU"
   },
   "source": [
    "In this assignment, we will derive and implement formulas for Gaussian Mixture Model — one of the most commonly used methods for performing soft clustering of the data. "
   ]
  },
  {
   "cell_type": "markdown",
   "metadata": {
    "colab_type": "text",
    "id": "jequoJfSBEDV"
   },
   "source": [
    "### Setup\n",
    "Loading auxiliary files and importing the necessary libraries."
   ]
  },
  {
   "cell_type": "code",
   "execution_count": 4,
   "metadata": {
    "colab": {
     "base_uri": "https://localhost:8080/",
     "height": 256
    },
    "colab_type": "code",
    "id": "ZqZo-y9UBEDX",
    "outputId": "6e4574a1-6d33-4038-c56c-ce649b89b8e3"
   },
   "outputs": [
    {
     "name": "stdout",
     "output_type": "stream",
     "text": [
      "Downloading Colab files\n",
      "shred: setup_google_colab.py: failed to open for writing: No such file or directory\n",
      "--2019-03-16 04:16:56--  https://raw.githubusercontent.com/hse-aml/bayesian-methods-for-ml/master/setup_google_colab.py\n",
      "Resolving raw.githubusercontent.com (raw.githubusercontent.com)... 151.101.0.133, 151.101.64.133, 151.101.128.133, ...\n",
      "Connecting to raw.githubusercontent.com (raw.githubusercontent.com)|151.101.0.133|:443... connected.\n",
      "HTTP request sent, awaiting response... 200 OK\n",
      "Length: 1308 (1.3K) [text/plain]\n",
      "Saving to: ‘setup_google_colab.py’\n",
      "\n",
      "setup_google_colab. 100%[===================>]   1.28K  --.-KB/s    in 0s      \n",
      "\n",
      "2019-03-16 04:16:57 (174 MB/s) - ‘setup_google_colab.py’ saved [1308/1308]\n",
      "\n"
     ]
    }
   ],
   "source": [
    "try:\n",
    "    import google.colab\n",
    "    IN_COLAB = True\n",
    "except:\n",
    "    IN_COLAB = False\n",
    "if IN_COLAB:\n",
    "    print(\"Downloading Colab files\")\n",
    "    ! shred -u setup_google_colab.py\n",
    "    ! wget https://raw.githubusercontent.com/hse-aml/bayesian-methods-for-ml/master/setup_google_colab.py -O setup_google_colab.py\n",
    "    import setup_google_colab\n",
    "    setup_google_colab.load_data_week2()"
   ]
  },
  {
   "cell_type": "code",
   "execution_count": 0,
   "metadata": {
    "colab": {},
    "colab_type": "code",
    "id": "urylZcbeBEDc"
   },
   "outputs": [],
   "source": [
    "import numpy as np\n",
    "from numpy.linalg import slogdet, det, solve\n",
    "import matplotlib.pyplot as plt\n",
    "import time\n",
    "from sklearn.datasets import load_digits\n",
    "from w2_grader import EMGrader\n",
    "%matplotlib inline"
   ]
  },
  {
   "cell_type": "markdown",
   "metadata": {
    "colab_type": "text",
    "id": "tP8l9frZBEDf"
   },
   "source": [
    "### Grading\n",
    "We will create a grader instance below and use it to collect your answers. Note that these outputs will be stored locally inside grader and will be uploaded to the platform only after running submitting function in the last part of this assignment. If you want to make a partial submission, you can run that cell anytime you want."
   ]
  },
  {
   "cell_type": "code",
   "execution_count": 0,
   "metadata": {
    "colab": {},
    "colab_type": "code",
    "id": "7Gvy3EOvBEDg"
   },
   "outputs": [],
   "source": [
    "grader = EMGrader()"
   ]
  },
  {
   "cell_type": "markdown",
   "metadata": {
    "colab_type": "text",
    "id": "dL3A2sntBEDj"
   },
   "source": [
    "## Implementing EM for GMM"
   ]
  },
  {
   "cell_type": "markdown",
   "metadata": {
    "colab_type": "text",
    "id": "0xPS_VdpBEDk"
   },
   "source": [
    "For debugging, we will use samples from a Gaussian mixture model with unknown mean, variance, and priors. We also added initial values of parameters for grading purposes."
   ]
  },
  {
   "cell_type": "code",
   "execution_count": 7,
   "metadata": {
    "colab": {
     "base_uri": "https://localhost:8080/",
     "height": 265
    },
    "colab_type": "code",
    "id": "g9_aOn94BEDl",
    "outputId": "b6de0f23-e759-4e84-b8e2-5b75db35113c"
   },
   "outputs": [
    {
     "data": {
      "image/png": "[encoded data removed]",
      "text/plain": [
       "<Figure size 432x288 with 1 Axes>"
      ]
     },
     "metadata": {
      "tags": []
     },
     "output_type": "display_data"
    }
   ],
   "source": [
    "samples = np.load('samples.npz')\n",
    "X = samples['data']\n",
    "pi0 = samples['pi0']\n",
    "mu0 = samples['mu0']\n",
    "sigma0 = samples['sigma0']\n",
    "plt.scatter(X[:, 0], X[:, 1], c='grey', s=30)\n",
    "plt.axis('equal')\n",
    "plt.show()"
   ]
  },
  {
   "cell_type": "markdown",
   "metadata": {
    "colab_type": "text",
    "id": "AmgeHTCfBEDp"
   },
   "source": [
    "### Reminder"
   ]
  },
  {
   "cell_type": "markdown",
   "metadata": {
    "colab_type": "text",
    "id": "RgAwWi1nBEDq"
   },
   "source": [
    "Remember, that EM algorithm is a coordinate descent optimization of variational lower bound $\\mathcal{L}(\\theta, q) = \\int q(T) \\log\\frac{p(X, T|\\theta)}{q(T)}dT\\to \\max$.\n",
    "\n",
    "<b>E-step</b>:<br>\n",
    "$\\mathcal{L}(\\theta, q) \\to \\max\\limits_{q} \\Leftrightarrow \\mathcal{KL} [q(T) \\,\\|\\, p(T|X, \\theta)] \\to \\min \\limits_{q\\in Q} \\Rightarrow q(T) = p(T|X, \\theta)$<br>\n",
    "<b>M-step</b>:<br> \n",
    "$\\mathcal{L}(\\theta, q) \\to \\max\\limits_{\\theta} \\Leftrightarrow \\mathbb{E}_{q(T)}\\log p(X,T | \\theta) \\to \\max\\limits_{\\theta}$\n",
    "\n",
    "For GMM, $\\theta$ is a set of parameters that consists of mean vectors $\\mu_c$, covariance matrices $\\Sigma_c$ and priors $\\pi_c$ for each component.\n",
    "\n",
    "Latent variables $T$ are indices of components to which each data point is assigned, i.e. $t_i$  is the cluster index for object $x_i$.\n",
    "\n",
    "The joint distribution can be written as follows: $\\log p(T, X \\mid \\theta) =  \\sum\\limits_{i=1}^N \\log p(t_i, x_i \\mid \\theta) = \\sum\\limits_{i=1}^N \\sum\\limits_{c=1}^C q(t_i = c) \\log \\left (\\pi_c \\, f_{\\!\\mathcal{N}}(x_i \\mid \\mu_c, \\Sigma_c)\\right)$,\n",
    "where $f_{\\!\\mathcal{N}}(x \\mid \\mu_c, \\Sigma_c) = \\frac{1}{\\sqrt{(2\\pi)^n|\\boldsymbol\\Sigma_c|}}\n",
    "\\exp\\left(-\\frac{1}{2}({x}-{\\mu_c})^T{\\boldsymbol\\Sigma_c}^{-1}({x}-{\\mu_c})\n",
    "\\right)$ is the probability density function (pdf) of the normal distribution $\\mathcal{N}(x_i \\mid \\mu_c, \\Sigma_c)$."
   ]
  },
  {
   "cell_type": "markdown",
   "metadata": {
    "colab_type": "text",
    "id": "ELmi1nAtBEDr"
   },
   "source": [
    "### E-step\n",
    "In this step we need to estimate the posterior distribution over the latent variables with fixed values of parameters: $q_i(t_i) = p(t_i \\mid x_i, \\theta)$. We assume that $t_i$ equals to the cluster index of the true component of the $x_i$ object. To do so we need to compute $\\gamma_{ic} = p(t_i = c \\mid x_i, \\theta)$. Note that $\\sum\\limits_{c=1}^C\\gamma_{ic}=1$.\n"
   ]
  },
  {
   "cell_type": "markdown",
   "metadata": {
    "colab_type": "text",
    "id": "53FR1RJ9BEDs"
   },
   "source": [
    "<b>Important trick 1:</b> It is important to avoid numerical errors. At some point you will have to compute the formula of the following form: $\\frac{e^{y_i}}{\\sum_j e^{y_j}}$, which is called _softmax_. When you compute exponents of large numbers, some numbers may become infinity. You can avoid this by dividing numerator and denominator by $e^{\\max(y)}$: $\\frac{e^{y_i-\\max(y)}}{\\sum_j e^{y_j - \\max(y)}}$. After this transformation maximum value in the denominator will be equal to one. All other terms will contribute smaller values. So, to compute desired formula you first subtract maximum value from each component in vector $\\mathbf{y}$ and then compute everything else as before.\n",
    "\n",
    "<b>Important trick 2:</b> You will probably need to compute formula of the form $A^{-1}x$ at some point. You would normally inverse $A$ and then multiply it by $x$. A bit faster and more numerically accurate way to do this is to directly solve equation $Ay = x$ by using a special function. Its solution is $y=A^{-1}x$, but the equation $Ay = x$ can be solved by methods which do not explicitely invert the matrix. You can use ```np.linalg.solve``` for this.\n",
    "\n",
    "<b>Other usefull functions: </b> <a href=\"https://docs.scipy.org/doc/numpy/reference/generated/numpy.linalg.slogdet.html\">```slogdet```</a> and <a href=\"https://docs.scipy.org/doc/numpy/reference/generated/numpy.linalg.det.html#numpy.linalg.det\">```det```</a>"
   ]
  },
  {
   "cell_type": "markdown",
   "metadata": {
    "colab_type": "text",
    "id": "KL87Q8-TBEDu"
   },
   "source": [
    "<b>Task 1:</b> Implement E-step for GMM using template below."
   ]
  },
  {
   "cell_type": "code",
   "execution_count": 0,
   "metadata": {
    "colab": {},
    "colab_type": "code",
    "id": "wCUCaD28BEDw"
   },
   "outputs": [],
   "source": [
    "from scipy.stats import multivariate_normal as mv_norm\n",
    "\n",
    "ENABLED = False\n",
    "\n",
    "def print_shape_of(obj, lbl):\n",
    "  if ENABLED:\n",
    "    print(\" ==> shape of (\" + str(lbl) + \") = \" + str(obj.shape))\n",
    "\n",
    "def E_step(X, pi, mu, sigma):\n",
    "    \"\"\"\n",
    "    Performs E-step on GMM model\n",
    "    Each input is numpy array:\n",
    "    X: (N x d), data points\n",
    "    pi: (C), mixture component weights \n",
    "    mu: (C x d), mixture component means\n",
    "    sigma: (C x d x d), mixture component covariance matrices\n",
    "    \n",
    "    Returns:\n",
    "    gamma: (N x C), probabilities of clusters for objects\n",
    "    \"\"\"\n",
    "    N = X.shape[0] # number of objects\n",
    "    C = pi.shape[0] # number of clusters\n",
    "    d = mu.shape[1] # dimension of each object\n",
    "    gamma = np.zeros((N, C)) # distribution q(T) shape [N=280, C=3]\n",
    "\n",
    "    ### YOUR CODE HERE\n",
    "    for ix in range(C):\n",
    "      gamma[:, ix] = pi[ix] * mv_norm.pdf(X, mu[ix, :], sigma[ix])\n",
    "        \n",
    "    # normalize\n",
    "    gamma_norm = np.sum(gamma, axis=1)[:, np.newaxis] # shape [280, 1] instead of just [280, ]\n",
    "    gamma /= gamma_norm\n",
    "    \n",
    "    # assert np.all(np.abs(np.sum(gamma, axis=1) - 1.0) <= 0.000001), \"any line of gamma matrix should sum to 1.0\"\n",
    "    \n",
    "    return gamma"
   ]
  },
  {
   "cell_type": "code",
   "execution_count": 9,
   "metadata": {
    "colab": {
     "base_uri": "https://localhost:8080/",
     "height": 35
    },
    "colab_type": "code",
    "id": "xlhktOlMBED1",
    "outputId": "7e9a1af9-621b-4df3-f4ee-ab5026e29d1e"
   },
   "outputs": [
    {
     "name": "stdout",
     "output_type": "stream",
     "text": [
      "Current answer for task Task 1 (E-step) is: 0.5337178741081263\n"
     ]
    }
   ],
   "source": [
    "gamma = E_step(X, pi0, mu0, sigma0)\n",
    "grader.submit_e_step(gamma)"
   ]
  },
  {
   "cell_type": "markdown",
   "metadata": {
    "colab_type": "text",
    "id": "fERrQWSCBED5"
   },
   "source": [
    "### M-step\n",
    "\n",
    "In M-step we need to maximize $\\mathbb{E}_{q(T)}\\log p(X,T | \\theta)$ with respect to $\\theta$. In our model this means that we need to find optimal values of $\\pi$, $\\mu$, $\\Sigma$. To do so, you need to compute the derivatives and \n",
    "set them to zero. You should start by deriving formulas for $\\mu$ as it is the easiest part. Then move on to $\\Sigma$. Here it is crucial to optimize function w.r.t. to $\\Lambda = \\Sigma^{-1}$ and then inverse obtained result. Finaly, to compute $\\pi$, you will need <a href=\"https://www3.nd.edu/~jstiver/FIN360/Constrained%20Optimization.pdf\">Lagrange Multipliers technique</a> to satisfy constraint $\\sum\\limits_{i=1}^{n}\\pi_i = 1$.\n",
    "\n",
    "<br>\n",
    "<b>Important note:</b> You will need to compute derivatives of scalars with respect to matrices. To refresh this technique from previous courses, see <a href=\"https://en.wikipedia.org/wiki/Matrix_calculus\"> wiki article</a> about it . Main formulas of matrix derivatives can be found in <a href=\"http://www2.imm.dtu.dk/pubdb/views/edoc_download.php/3274/pdf/imm3274.pdf\">Chapter 2 of The Matrix Cookbook</a>. For example, there you may find that $\\frac{\\partial}{\\partial A}\\log |A| = A^{-T}$.\n"
   ]
  },
  {
   "cell_type": "markdown",
   "metadata": {
    "colab_type": "text",
    "id": "A31OYSogBED6"
   },
   "source": [
    "\n",
    "<b>Task 2:</b> Implement M-step for GMM using template below."
   ]
  },
  {
   "cell_type": "code",
   "execution_count": 0,
   "metadata": {
    "colab": {},
    "colab_type": "code",
    "id": "mhOr5I1bBED7"
   },
   "outputs": [],
   "source": [
    "def M_step(X, gamma):\n",
    "    \"\"\"\n",
    "    Performs M-step on GMM model\n",
    "    Each input is numpy array:\n",
    "    X: (N x d), data points\n",
    "    gamma: (N x C), distribution q(T)  \n",
    "    \n",
    "    Returns:\n",
    "    pi: (C)\n",
    "    mu: (C x d)\n",
    "    sigma: (C x d x d)\n",
    "    \"\"\"\n",
    "    N = X.shape[0] # number of objects\n",
    "    C = gamma.shape[1] # number of clusters\n",
    "    d = X.shape[1] # dimension of each object\n",
    "\n",
    "    ### YOUR CODE HERE\n",
    "    sigma = np.zeros((C, d, d))\n",
    "    print_shape_of(sigma, 'sigma')\n",
    "    \n",
    "    pi = np.mean(gamma, axis = 0)\n",
    "    print_shape_of(pi, 'pi')\n",
    "    \n",
    "    mu = np.dot(gamma.T, X) / np.sum(gamma, axis = 0)[:,np.newaxis]\n",
    "    print_shape_of(mu, 'mu')\n",
    "    \n",
    "    gamma_sum = np.sum(gamma, axis=0)[:, np.newaxis]\n",
    "    print_shape_of(gamma_sum, 'gamma_sum2')\n",
    "    \n",
    "    # NOTE C == 3\n",
    "    for ix in range(C):\n",
    "      x = X - mu[ix, :]\n",
    "      print_shape_of(x, 'x')\n",
    "        \n",
    "      gamma_diag = np.matrix(np.diag(gamma[:, ix]))\n",
    "      print_shape_of(gamma_diag, 'gamma_diag')\n",
    "        \n",
    "      sigma_per_class = x.T * gamma_diag * x\n",
    "      print_shape_of(sigma_per_class, 'sigma_per_class')\n",
    "        \n",
    "      sigma[ix, :, :] = (sigma_per_class) / gamma_sum[ix]\n",
    "\n",
    "    return pi, mu, sigma"
   ]
  },
  {
   "cell_type": "code",
   "execution_count": 11,
   "metadata": {
    "colab": {
     "base_uri": "https://localhost:8080/",
     "height": 72
    },
    "colab_type": "code",
    "id": "6i5cv65SBED-",
    "outputId": "6c415baa-dd94-45ae-ea4f-e236d7ceda83"
   },
   "outputs": [
    {
     "name": "stdout",
     "output_type": "stream",
     "text": [
      "Current answer for task Task 2 (M-step: mu) is: 2.899391882050383\n",
      "Current answer for task Task 2 (M-step: sigma) is: 5.977105216897526\n",
      "Current answer for task Task 2 (M-step: pi) is: 0.5507624459218776\n"
     ]
    }
   ],
   "source": [
    "gamma = E_step(X, pi0, mu0, sigma0)\n",
    "pi, mu, sigma = M_step(X, gamma)\n",
    "grader.submit_m_step(pi, mu, sigma)"
   ]
  },
  {
   "cell_type": "markdown",
   "metadata": {
    "colab_type": "text",
    "id": "svyzjt7XBEEC"
   },
   "source": [
    "### Loss function"
   ]
  },
  {
   "cell_type": "markdown",
   "metadata": {
    "colab_type": "text",
    "id": "qexOXBLUBEED"
   },
   "source": [
    "Finally, we need some function to track convergence. We will use variational lower bound $\\mathcal{L}$ for this purpose. We will stop our EM iterations when $\\mathcal{L}$ will saturate. Usually, you will need only about 10-20 iterations to converge. It is also useful to check that this function never decreases during training. If it does, you have a bug in your code.\n",
    "\n",
    "<b>Task 3:</b> Implement a function that will compute $\\mathcal{L}$ using template below.\n",
    "\n",
    "$$\\mathcal{L} = \\sum_{i=1}^{N} \\sum_{c=1}^{C} q(t_i =c) (\\log \\pi_c + \\log f_{\\!\\mathcal{N}}(x_i \\mid \\mu_c, \\Sigma_c)) - \\sum_{i=1}^{N} \\sum_{c=1}^{K} q(t_i =c) \\log q(t_i =c)$$"
   ]
  },
  {
   "cell_type": "code",
   "execution_count": 0,
   "metadata": {
    "colab": {},
    "colab_type": "code",
    "id": "B5tKCZe0BEEE"
   },
   "outputs": [],
   "source": [
    "def compute_vlb(X, pi, mu, sigma, gamma):\n",
    "    \"\"\"\n",
    "    Each input is numpy array:\n",
    "    X: (N x d), data points\n",
    "    gamma: (N x C), distribution q(T)  \n",
    "    pi: (C)\n",
    "    mu: (C x d)\n",
    "    sigma: (C x d x d)\n",
    "    \n",
    "    Returns value of variational lower bound\n",
    "    \"\"\"\n",
    "    N = X.shape[0] # number of objects\n",
    "    C = gamma.shape[1] # number of clusters\n",
    "    d = X.shape[1] # dimension of each object\n",
    "\n",
    "    ### YOUR CODE HERE\n",
    "    Eps1 = 1.e-20\n",
    "    Eps2 = Eps1 / 10.\n",
    "    \n",
    "    loss = np.zeros((N, C)) # N == 280, C == 3\n",
    "    for ix in range(C):\n",
    "      dist = mv_norm(mu[ix], sigma[ix], allow_singular=True)   \n",
    "      loss[:, ix] = gamma[:, ix] * (np.log(pi[ix] + Eps1) + dist.logpdf(X) - np.log(gamma[:, ix] + Eps2))\n",
    "      \n",
    "    \n",
    "    loss = np.sum(loss)\n",
    "    \n",
    "    return loss"
   ]
  },
  {
   "cell_type": "code",
   "execution_count": 13,
   "metadata": {
    "colab": {
     "base_uri": "https://localhost:8080/",
     "height": 35
    },
    "colab_type": "code",
    "id": "xNva3XRTBEEI",
    "outputId": "a157f327-9c93-4d0a-9417-949f5d64a016"
   },
   "outputs": [
    {
     "name": "stdout",
     "output_type": "stream",
     "text": [
      "Current answer for task Task 3 (VLB) is: -1213.9734643060183\n"
     ]
    }
   ],
   "source": [
    "pi, mu, sigma = pi0, mu0, sigma0\n",
    "gamma = E_step(X, pi, mu, sigma)\n",
    "pi, mu, sigma = M_step(X, gamma)\n",
    "loss = compute_vlb(X, pi, mu, sigma, gamma)\n",
    "grader.submit_VLB(loss)"
   ]
  },
  {
   "cell_type": "markdown",
   "metadata": {
    "colab_type": "text",
    "id": "I5p8XC-eBEEM"
   },
   "source": [
    "### Bringing it all together"
   ]
  },
  {
   "cell_type": "markdown",
   "metadata": {
    "colab_type": "text",
    "id": "cQsdsNVCBEEU"
   },
   "source": [
    "Now that we have E step, M step and VLB, we can implement the training loop. We will initialize values of $\\pi$, $\\mu$ and $\\Sigma$ to some random numbers, train until $\\mathcal{L}$ stops changing, and return the resulting points. We also know that the EM algorithm converges to local optima. To find a better local optima, we will restart the algorithm multiple times from different (random) starting positions. Each training trial should stop either when maximum number of iterations is reached or when relative improvement is smaller than given tolerance ($|\\frac{\\mathcal{L}_i-\\mathcal{L}_{i-1}}{\\mathcal{L}_{i-1}}| \\le \\text{rtol}$).\n",
    "\n",
    "Remember, that initial (random) values of $\\pi$ that you generate must be non-negative and sum up to 1. Also, $\\Sigma$ matrices must be symmetric and positive semi-definite. If you don't know how to generate those matrices, you can use $\\Sigma=I$ as initialization.\n",
    "\n",
    "You will also sometimes get numerical errors because of component collapsing. The easiest way to deal with this problems is to restart the procedure.\n",
    "\n",
    "<b>Task 4:</b> Implement training procedure"
   ]
  },
  {
   "cell_type": "code",
   "execution_count": 0,
   "metadata": {
    "colab": {},
    "colab_type": "code",
    "id": "Q1AAcyl0BEEW"
   },
   "outputs": [],
   "source": [
    "ENABLED = False\n",
    "\n",
    "def init_sigma_random(d, c):\n",
    "  sigma = np.zeros((c, d, d))\n",
    "  _a = np.random.rand(c, d, d)\n",
    "  \n",
    "  for ix in range(c):\n",
    "    _a[ix, :, : ] = np.dot(_a[ix, :, :], _a[ix, :, :].T) \n",
    "    sigma[ix] = np.tril(_a[ix, :, :]) + np.tril(_a[ix, :, :], -1).T\n",
    "    \n",
    "  print_shape_of(sigma, 'sigma')\n",
    "  return sigma\n",
    "\n",
    "def init_sigma_id(d, c):\n",
    "  sigma = np.zeros((c, d, d))\n",
    "  \n",
    "  for ix in range(c):\n",
    "    sigma[ix] = np.identity(d)\n",
    "    \n",
    "  print_shape_of(sigma, 'sigma')\n",
    "  return sigma\n",
    "\n",
    "def init_parms(n, d, c, strategy='random'):\n",
    "  # print(\"in init_parms - 1\")\n",
    "  pi = np.random.rand(c) \n",
    "  pi /= np.sum(pi)\n",
    "  assert np.all(np.abs(np.sum(pi, axis=0) - 1.0) <= 0.000001), \"any line of gamma matrix should sum to 1.0\"\n",
    "  \n",
    "  mu = np.random.rand(c, d)\n",
    "  sigma = init_sigma_id(d, c) # init_sigma(d, c)\n",
    "  \n",
    "  return pi, mu, sigma\n",
    "\n",
    "\n",
    "def best(val, best):\n",
    "  if best is None:\n",
    "    best = val\n",
    "  return best if best > val else val\n",
    "\n",
    "def train_EM(X, C, rtol=1e-3, max_iter=100, restarts=10):\n",
    "    '''\n",
    "    Starts with random initialization *restarts* times\n",
    "    Runs optimization until saturation with *rtol* reached\n",
    "    or *max_iter* iterations were made.\n",
    "    \n",
    "    X: (N, d), data points\n",
    "    C: int, number of clusters\n",
    "    '''\n",
    "    N = X.shape[0] # number of objects\n",
    "    d = X.shape[1] # dimension of each object\n",
    "    best_loss = None\n",
    "    best_pi = None\n",
    "    best_mu = None\n",
    "    best_sigma = None \n",
    "    \n",
    "    for r in range(restarts):\n",
    "        try:\n",
    "            ### YOUR CODE HERE\n",
    "            best_loss = -1.0e10 if best_loss is None else best_loss \n",
    "            pi, mu, sigma = init_parms(N, d, C, strategy='random')\n",
    "            ploss = None\n",
    "            print(\"range \" + str(r))\n",
    "            \n",
    "            for iter in range(max_iter):\n",
    "              ploss = 1 if ploss is None else ploss\n",
    "              gamma = E_step(X, pi, mu, sigma)\n",
    "              pi, mu, sigma = M_step(X, gamma)\n",
    "              closs = compute_vlb(X, pi, mu, sigma, gamma)\n",
    "              # print(\"\\t==> current loss[\" + str(iter) + \"]: \" + str(closs) + \" / ploss: \" + str(ploss) + \" / best_loss: \" + str(best_loss)) \n",
    "              \n",
    "              if abs((closs - ploss) / ploss) <= rtol:\n",
    "                break\n",
    "              else:\n",
    "                ploss = closs\n",
    "            \n",
    "              # keep track of best_loss over restart\n",
    "              if closs > best_loss:\n",
    "                print(\"\\tComp prev(abs(best_loss)): \" + str(abs(best_loss)) + \" / abs(closs): \" + str(abs(closs)))\n",
    "                best_pi = pi \n",
    "                best_mu = mu\n",
    "                best_sigma = sigma\n",
    "                best_loss = closs\n",
    "                \n",
    "              \n",
    "\n",
    "        except np.linalg.LinAlgError:\n",
    "            print(\"Singular matrix: components collapsed\")\n",
    "            pass\n",
    "\n",
    "    return best_loss, best_pi, best_mu, best_sigma"
   ]
  },
  {
   "cell_type": "code",
   "execution_count": 19,
   "metadata": {
    "colab": {
     "base_uri": "https://localhost:8080/",
     "height": 4278
    },
    "colab_type": "code",
    "id": "0f8A5sbmBEEZ",
    "outputId": "1fcd5225-8f1c-4d9c-948e-015ba97223dd"
   },
   "outputs": [
    {
     "name": "stdout",
     "output_type": "stream",
     "text": [
      "range 0\n",
      "\t==> current loss[0]: -1208.7000661092363 / ploss: 1 / best_loss: -10000000000.0\n",
      "\tComp prev(abs(best_loss)): 10000000000.0 / abs(closs): 1208.7000661092363\n",
      "\t==> current loss[1]: -1184.2670317433394 / ploss: -1208.7000661092363 / best_loss: -1208.7000661092363\n",
      "\tComp prev(abs(best_loss)): 1208.7000661092363 / abs(closs): 1184.2670317433394\n",
      "\t==> current loss[2]: -1169.1202411706818 / ploss: -1184.2670317433394 / best_loss: -1184.2670317433394\n",
      "\tComp prev(abs(best_loss)): 1184.2670317433394 / abs(closs): 1169.1202411706818\n",
      "\t==> current loss[3]: -1155.803026490948 / ploss: -1169.1202411706818 / best_loss: -1169.1202411706818\n",
      "\tComp prev(abs(best_loss)): 1169.1202411706818 / abs(closs): 1155.803026490948\n",
      "\t==> current loss[4]: -1144.742206956782 / ploss: -1155.803026490948 / best_loss: -1155.803026490948\n",
      "\tComp prev(abs(best_loss)): 1155.803026490948 / abs(closs): 1144.742206956782\n",
      "\t==> current loss[5]: -1135.7261189698456 / ploss: -1144.742206956782 / best_loss: -1144.742206956782\n",
      "\tComp prev(abs(best_loss)): 1144.742206956782 / abs(closs): 1135.7261189698456\n",
      "\t==> current loss[6]: -1128.0690358370873 / ploss: -1135.7261189698456 / best_loss: -1135.7261189698456\n",
      "\tComp prev(abs(best_loss)): 1135.7261189698456 / abs(closs): 1128.0690358370873\n",
      "\t==> current loss[7]: -1121.4948074780975 / ploss: -1128.0690358370873 / best_loss: -1128.0690358370873\n",
      "\tComp prev(abs(best_loss)): 1128.0690358370873 / abs(closs): 1121.4948074780975\n",
      "\t==> current loss[8]: -1115.77460377999 / ploss: -1121.4948074780975 / best_loss: -1121.4948074780975\n",
      "\tComp prev(abs(best_loss)): 1121.4948074780975 / abs(closs): 1115.77460377999\n",
      "\t==> current loss[9]: -1110.6166137319578 / ploss: -1115.77460377999 / best_loss: -1115.77460377999\n",
      "\tComp prev(abs(best_loss)): 1115.77460377999 / abs(closs): 1110.6166137319578\n",
      "\t==> current loss[10]: -1105.8690727494266 / ploss: -1110.6166137319578 / best_loss: -1110.6166137319578\n",
      "\tComp prev(abs(best_loss)): 1110.6166137319578 / abs(closs): 1105.8690727494266\n",
      "\t==> current loss[11]: -1101.6161284126256 / ploss: -1105.8690727494266 / best_loss: -1105.8690727494266\n",
      "\tComp prev(abs(best_loss)): 1105.8690727494266 / abs(closs): 1101.6161284126256\n",
      "\t==> current loss[12]: -1097.9934522679964 / ploss: -1101.6161284126256 / best_loss: -1101.6161284126256\n",
      "\tComp prev(abs(best_loss)): 1101.6161284126256 / abs(closs): 1097.9934522679964\n",
      "\t==> current loss[13]: -1094.823265955652 / ploss: -1097.9934522679964 / best_loss: -1097.9934522679964\n",
      "\tComp prev(abs(best_loss)): 1097.9934522679964 / abs(closs): 1094.823265955652\n",
      "\t==> current loss[14]: -1091.5351809890765 / ploss: -1094.823265955652 / best_loss: -1094.823265955652\n",
      "\tComp prev(abs(best_loss)): 1094.823265955652 / abs(closs): 1091.5351809890765\n",
      "\t==> current loss[15]: -1087.3431721661539 / ploss: -1091.5351809890765 / best_loss: -1091.5351809890765\n",
      "\tComp prev(abs(best_loss)): 1091.5351809890765 / abs(closs): 1087.3431721661539\n",
      "\t==> current loss[16]: -1082.0153371609485 / ploss: -1087.3431721661539 / best_loss: -1087.3431721661539\n",
      "\tComp prev(abs(best_loss)): 1087.3431721661539 / abs(closs): 1082.0153371609485\n",
      "\t==> current loss[17]: -1075.903188610755 / ploss: -1082.0153371609485 / best_loss: -1082.0153371609485\n",
      "\tComp prev(abs(best_loss)): 1082.0153371609485 / abs(closs): 1075.903188610755\n",
      "\t==> current loss[18]: -1067.2518675326387 / ploss: -1075.903188610755 / best_loss: -1075.903188610755\n",
      "\tComp prev(abs(best_loss)): 1075.903188610755 / abs(closs): 1067.2518675326387\n",
      "\t==> current loss[19]: -1064.172073006309 / ploss: -1067.2518675326387 / best_loss: -1067.2518675326387\n",
      "\tComp prev(abs(best_loss)): 1067.2518675326387 / abs(closs): 1064.172073006309\n",
      "\t==> current loss[20]: -1063.911144220174 / ploss: -1064.172073006309 / best_loss: -1064.172073006309\n",
      "range 1\n",
      "\t==> current loss[0]: -1223.3935487623398 / ploss: 1 / best_loss: -1064.172073006309\n",
      "\t==> current loss[1]: -1206.793563031346 / ploss: -1223.3935487623398 / best_loss: -1064.172073006309\n",
      "\t==> current loss[2]: -1185.5268427283277 / ploss: -1206.793563031346 / best_loss: -1064.172073006309\n",
      "\t==> current loss[3]: -1143.7206921651632 / ploss: -1185.5268427283277 / best_loss: -1064.172073006309\n",
      "\t==> current loss[4]: -1092.4492574450849 / ploss: -1143.7206921651632 / best_loss: -1064.172073006309\n",
      "\t==> current loss[5]: -1077.864578731927 / ploss: -1092.4492574450849 / best_loss: -1064.172073006309\n",
      "\t==> current loss[6]: -1073.2794324012586 / ploss: -1077.864578731927 / best_loss: -1064.172073006309\n",
      "\t==> current loss[7]: -1069.1850712848059 / ploss: -1073.2794324012586 / best_loss: -1064.172073006309\n",
      "\t==> current loss[8]: -1066.0102801706698 / ploss: -1069.1850712848059 / best_loss: -1064.172073006309\n",
      "\t==> current loss[9]: -1064.6600119241966 / ploss: -1066.0102801706698 / best_loss: -1064.172073006309\n",
      "\t==> current loss[10]: -1064.1710449175916 / ploss: -1064.6600119241966 / best_loss: -1064.172073006309\n",
      "range 2\n",
      "\t==> current loss[0]: -1200.8233910327833 / ploss: 1 / best_loss: -1064.172073006309\n",
      "\t==> current loss[1]: -1177.5544986978996 / ploss: -1200.8233910327833 / best_loss: -1064.172073006309\n",
      "\t==> current loss[2]: -1166.6853654026697 / ploss: -1177.5544986978996 / best_loss: -1064.172073006309\n",
      "\t==> current loss[3]: -1155.5228320461565 / ploss: -1166.6853654026697 / best_loss: -1064.172073006309\n",
      "\t==> current loss[4]: -1144.5486745228563 / ploss: -1155.5228320461565 / best_loss: -1064.172073006309\n",
      "\t==> current loss[5]: -1135.8397041340436 / ploss: -1144.5486745228563 / best_loss: -1064.172073006309\n",
      "\t==> current loss[6]: -1129.5912960325695 / ploss: -1135.8397041340436 / best_loss: -1064.172073006309\n",
      "\t==> current loss[7]: -1124.3063967837838 / ploss: -1129.5912960325695 / best_loss: -1064.172073006309\n",
      "\t==> current loss[8]: -1119.3920100331165 / ploss: -1124.3063967837838 / best_loss: -1064.172073006309\n",
      "\t==> current loss[9]: -1114.7755222541177 / ploss: -1119.3920100331165 / best_loss: -1064.172073006309\n",
      "\t==> current loss[10]: -1110.40862269226 / ploss: -1114.7755222541177 / best_loss: -1064.172073006309\n",
      "\t==> current loss[11]: -1106.3636661536543 / ploss: -1110.40862269226 / best_loss: -1064.172073006309\n",
      "\t==> current loss[12]: -1102.8733000134425 / ploss: -1106.3636661536543 / best_loss: -1064.172073006309\n",
      "\t==> current loss[13]: -1100.103289486898 / ploss: -1102.8733000134425 / best_loss: -1064.172073006309\n",
      "\t==> current loss[14]: -1097.9233809455914 / ploss: -1100.103289486898 / best_loss: -1064.172073006309\n",
      "\t==> current loss[15]: -1095.9841559598456 / ploss: -1097.9233809455914 / best_loss: -1064.172073006309\n",
      "\t==> current loss[16]: -1093.9213858916326 / ploss: -1095.9841559598456 / best_loss: -1064.172073006309\n",
      "\t==> current loss[17]: -1091.356328551952 / ploss: -1093.9213858916326 / best_loss: -1064.172073006309\n",
      "\t==> current loss[18]: -1087.767641502459 / ploss: -1091.356328551952 / best_loss: -1064.172073006309\n",
      "\t==> current loss[19]: -1083.0012290631391 / ploss: -1087.767641502459 / best_loss: -1064.172073006309\n",
      "\t==> current loss[20]: -1077.4878853897462 / ploss: -1083.0012290631391 / best_loss: -1064.172073006309\n",
      "\t==> current loss[21]: -1069.3754160908238 / ploss: -1077.4878853897462 / best_loss: -1064.172073006309\n",
      "\t==> current loss[22]: -1064.3685101580943 / ploss: -1069.3754160908238 / best_loss: -1064.172073006309\n",
      "\t==> current loss[23]: -1063.9460714536217 / ploss: -1064.3685101580943 / best_loss: -1064.172073006309\n",
      "range 3\n",
      "\t==> current loss[0]: -1201.2971768634782 / ploss: 1 / best_loss: -1064.172073006309\n",
      "\t==> current loss[1]: -1170.476741198081 / ploss: -1201.2971768634782 / best_loss: -1064.172073006309\n",
      "\t==> current loss[2]: -1162.1317826325107 / ploss: -1170.476741198081 / best_loss: -1064.172073006309\n",
      "\t==> current loss[3]: -1159.2109796456293 / ploss: -1162.1317826325107 / best_loss: -1064.172073006309\n",
      "\t==> current loss[4]: -1157.487025584733 / ploss: -1159.2109796456293 / best_loss: -1064.172073006309\n",
      "\t==> current loss[5]: -1156.0826257466979 / ploss: -1157.487025584733 / best_loss: -1064.172073006309\n",
      "\t==> current loss[6]: -1154.5930123172798 / ploss: -1156.0826257466979 / best_loss: -1064.172073006309\n",
      "\t==> current loss[7]: -1152.686417541156 / ploss: -1154.5930123172798 / best_loss: -1064.172073006309\n",
      "\t==> current loss[8]: -1149.8752055919397 / ploss: -1152.686417541156 / best_loss: -1064.172073006309\n",
      "\t==> current loss[9]: -1145.2030021090948 / ploss: -1149.8752055919397 / best_loss: -1064.172073006309\n",
      "\t==> current loss[10]: -1136.8477025246293 / ploss: -1145.2030021090948 / best_loss: -1064.172073006309\n",
      "\t==> current loss[11]: -1123.0771818094383 / ploss: -1136.8477025246293 / best_loss: -1064.172073006309\n",
      "\t==> current loss[12]: -1107.8936823252498 / ploss: -1123.0771818094383 / best_loss: -1064.172073006309\n",
      "\t==> current loss[13]: -1099.1196412434751 / ploss: -1107.8936823252498 / best_loss: -1064.172073006309\n",
      "\t==> current loss[14]: -1094.38868623271 / ploss: -1099.1196412434751 / best_loss: -1064.172073006309\n",
      "\t==> current loss[15]: -1089.21033289233 / ploss: -1094.38868623271 / best_loss: -1064.172073006309\n",
      "\t==> current loss[16]: -1081.3226894432985 / ploss: -1089.21033289233 / best_loss: -1064.172073006309\n",
      "\t==> current loss[17]: -1070.867058456625 / ploss: -1081.3226894432985 / best_loss: -1064.172073006309\n",
      "\t==> current loss[18]: -1064.2058968539413 / ploss: -1070.867058456625 / best_loss: -1064.172073006309\n",
      "\t==> current loss[19]: -1063.8721670315456 / ploss: -1064.2058968539413 / best_loss: -1064.172073006309\n",
      "range 4\n",
      "\t==> current loss[0]: -1229.6871046406968 / ploss: 1 / best_loss: -1064.172073006309\n",
      "\t==> current loss[1]: -1203.4009999746195 / ploss: -1229.6871046406968 / best_loss: -1064.172073006309\n",
      "\t==> current loss[2]: -1171.0236882260533 / ploss: -1203.4009999746195 / best_loss: -1064.172073006309\n",
      "\t==> current loss[3]: -1159.5294102376029 / ploss: -1171.0236882260533 / best_loss: -1064.172073006309\n",
      "\t==> current loss[4]: -1156.748143509376 / ploss: -1159.5294102376029 / best_loss: -1064.172073006309\n",
      "\t==> current loss[5]: -1154.9838401963102 / ploss: -1156.748143509376 / best_loss: -1064.172073006309\n",
      "\t==> current loss[6]: -1152.9471376899805 / ploss: -1154.9838401963102 / best_loss: -1064.172073006309\n",
      "\t==> current loss[7]: -1149.9443487848012 / ploss: -1152.9471376899805 / best_loss: -1064.172073006309\n",
      "\t==> current loss[8]: -1144.8727714073211 / ploss: -1149.9443487848012 / best_loss: -1064.172073006309\n",
      "\t==> current loss[9]: -1136.261089178984 / ploss: -1144.8727714073211 / best_loss: -1064.172073006309\n",
      "\t==> current loss[10]: -1124.7839605261092 / ploss: -1136.261089178984 / best_loss: -1064.172073006309\n",
      "\t==> current loss[11]: -1114.9947931493398 / ploss: -1124.7839605261092 / best_loss: -1064.172073006309\n",
      "\t==> current loss[12]: -1109.055838103 / ploss: -1114.9947931493398 / best_loss: -1064.172073006309\n",
      "\t==> current loss[13]: -1105.0880922466042 / ploss: -1109.055838103 / best_loss: -1064.172073006309\n",
      "\t==> current loss[14]: -1102.0691064122866 / ploss: -1105.0880922466042 / best_loss: -1064.172073006309\n",
      "\t==> current loss[15]: -1099.7906135474766 / ploss: -1102.0691064122866 / best_loss: -1064.172073006309\n",
      "\t==> current loss[16]: -1097.980698830999 / ploss: -1099.7906135474766 / best_loss: -1064.172073006309\n",
      "\t==> current loss[17]: -1096.307395482811 / ploss: -1097.980698830999 / best_loss: -1064.172073006309\n",
      "\t==> current loss[18]: -1094.486226496928 / ploss: -1096.307395482811 / best_loss: -1064.172073006309\n",
      "\t==> current loss[19]: -1092.2398587541757 / ploss: -1094.486226496928 / best_loss: -1064.172073006309\n",
      "\t==> current loss[20]: -1089.1381270198112 / ploss: -1092.2398587541757 / best_loss: -1064.172073006309\n",
      "\t==> current loss[21]: -1084.81360984921 / ploss: -1089.1381270198112 / best_loss: -1064.172073006309\n",
      "\t==> current loss[22]: -1079.7056897844618 / ploss: -1084.81360984921 / best_loss: -1064.172073006309\n",
      "\t==> current loss[23]: -1072.884585330814 / ploss: -1079.7056897844618 / best_loss: -1064.172073006309\n",
      "\t==> current loss[24]: -1065.143013901176 / ploss: -1072.884585330814 / best_loss: -1064.172073006309\n",
      "\t==> current loss[25]: -1064.0261133334013 / ploss: -1065.143013901176 / best_loss: -1064.172073006309\n",
      "\tComp prev(abs(best_loss)): 1064.172073006309 / abs(closs): 1064.0261133334013\n",
      "\t==> current loss[26]: -1063.8740762531488 / ploss: -1064.0261133334013 / best_loss: -1064.0261133334013\n",
      "range 5\n",
      "\t==> current loss[0]: -1219.7286817332538 / ploss: 1 / best_loss: -1064.0261133334013\n",
      "\t==> current loss[1]: -1196.6530842270474 / ploss: -1219.7286817332538 / best_loss: -1064.0261133334013\n",
      "\t==> current loss[2]: -1182.7672735389206 / ploss: -1196.6530842270474 / best_loss: -1064.0261133334013\n",
      "\t==> current loss[3]: -1174.1099331920552 / ploss: -1182.7672735389206 / best_loss: -1064.0261133334013\n",
      "\t==> current loss[4]: -1167.285601531701 / ploss: -1174.1099331920552 / best_loss: -1064.0261133334013\n",
      "\t==> current loss[5]: -1159.8382507090546 / ploss: -1167.285601531701 / best_loss: -1064.0261133334013\n",
      "\t==> current loss[6]: -1148.9855012686967 / ploss: -1159.8382507090546 / best_loss: -1064.0261133334013\n",
      "\t==> current loss[7]: -1132.5941628212404 / ploss: -1148.9855012686967 / best_loss: -1064.0261133334013\n",
      "\t==> current loss[8]: -1115.6437300723483 / ploss: -1132.5941628212404 / best_loss: -1064.0261133334013\n",
      "\t==> current loss[9]: -1104.578108691089 / ploss: -1115.6437300723483 / best_loss: -1064.0261133334013\n",
      "\t==> current loss[10]: -1097.5166516079557 / ploss: -1104.578108691089 / best_loss: -1064.0261133334013\n",
      "\t==> current loss[11]: -1092.3591152687707 / ploss: -1097.5166516079557 / best_loss: -1064.0261133334013\n",
      "\t==> current loss[12]: -1088.108753193928 / ploss: -1092.3591152687707 / best_loss: -1064.0261133334013\n",
      "\t==> current loss[13]: -1084.2526945826191 / ploss: -1088.108753193928 / best_loss: -1064.0261133334013\n",
      "\t==> current loss[14]: -1080.6471724285539 / ploss: -1084.2526945826191 / best_loss: -1064.0261133334013\n",
      "\t==> current loss[15]: -1075.9106152631743 / ploss: -1080.6471724285539 / best_loss: -1064.0261133334013\n",
      "\t==> current loss[16]: -1068.2945448644023 / ploss: -1075.9106152631743 / best_loss: -1064.0261133334013\n",
      "\t==> current loss[17]: -1064.5182502227922 / ploss: -1068.2945448644023 / best_loss: -1064.0261133334013\n",
      "\t==> current loss[18]: -1064.0356153479097 / ploss: -1064.5182502227922 / best_loss: -1064.0261133334013\n",
      "range 6\n",
      "\t==> current loss[0]: -1201.2516081814144 / ploss: 1 / best_loss: -1064.0261133334013\n",
      "\t==> current loss[1]: -1171.3620337293678 / ploss: -1201.2516081814144 / best_loss: -1064.0261133334013\n",
      "\t==> current loss[2]: -1165.2248173482092 / ploss: -1171.3620337293678 / best_loss: -1064.0261133334013\n",
      "\t==> current loss[3]: -1162.241054759444 / ploss: -1165.2248173482092 / best_loss: -1064.0261133334013\n",
      "\t==> current loss[4]: -1157.1327065658052 / ploss: -1162.241054759444 / best_loss: -1064.0261133334013\n",
      "\t==> current loss[5]: -1145.5006595530417 / ploss: -1157.1327065658052 / best_loss: -1064.0261133334013\n",
      "\t==> current loss[6]: -1130.8960809878672 / ploss: -1145.5006595530417 / best_loss: -1064.0261133334013\n",
      "\t==> current loss[7]: -1128.0174790769258 / ploss: -1130.8960809878672 / best_loss: -1064.0261133334013\n",
      "\t==> current loss[8]: -1126.4275061741882 / ploss: -1128.0174790769258 / best_loss: -1064.0261133334013\n",
      "\t==> current loss[9]: -1125.0074495726421 / ploss: -1126.4275061741882 / best_loss: -1064.0261133334013\n",
      "\t==> current loss[10]: -1123.6915254053056 / ploss: -1125.0074495726421 / best_loss: -1064.0261133334013\n",
      "\t==> current loss[11]: -1122.2703187889101 / ploss: -1123.6915254053056 / best_loss: -1064.0261133334013\n",
      "\t==> current loss[12]: -1120.4187300452822 / ploss: -1122.2703187889101 / best_loss: -1064.0261133334013\n",
      "\t==> current loss[13]: -1117.5734383826637 / ploss: -1120.4187300452822 / best_loss: -1064.0261133334013\n",
      "\t==> current loss[14]: -1112.55045202243 / ploss: -1117.5734383826637 / best_loss: -1064.0261133334013\n",
      "\t==> current loss[15]: -1102.9225871465471 / ploss: -1112.55045202243 / best_loss: -1064.0261133334013\n",
      "\t==> current loss[16]: -1086.3983962117695 / ploss: -1102.9225871465471 / best_loss: -1064.0261133334013\n",
      "\t==> current loss[17]: -1070.5169877999579 / ploss: -1086.3983962117695 / best_loss: -1064.0261133334013\n",
      "\t==> current loss[18]: -1065.0525417684437 / ploss: -1070.5169877999579 / best_loss: -1064.0261133334013\n",
      "\t==> current loss[19]: -1064.061724013153 / ploss: -1065.0525417684437 / best_loss: -1064.0261133334013\n",
      "range 7\n",
      "\t==> current loss[0]: -1235.204994276543 / ploss: 1 / best_loss: -1064.0261133334013\n",
      "\t==> current loss[1]: -1232.2497875323268 / ploss: -1235.204994276543 / best_loss: -1064.0261133334013\n",
      "\t==> current loss[2]: -1227.6310113606314 / ploss: -1232.2497875323268 / best_loss: -1064.0261133334013\n",
      "\t==> current loss[3]: -1216.111257943735 / ploss: -1227.6310113606314 / best_loss: -1064.0261133334013\n",
      "\t==> current loss[4]: -1202.023512789391 / ploss: -1216.111257943735 / best_loss: -1064.0261133334013\n",
      "\t==> current loss[5]: -1192.613440775583 / ploss: -1202.023512789391 / best_loss: -1064.0261133334013\n",
      "\t==> current loss[6]: -1186.2404114900862 / ploss: -1192.613440775583 / best_loss: -1064.0261133334013\n",
      "\t==> current loss[7]: -1181.4304131380231 / ploss: -1186.2404114900862 / best_loss: -1064.0261133334013\n",
      "\t==> current loss[8]: -1177.4212430419657 / ploss: -1181.4304131380231 / best_loss: -1064.0261133334013\n",
      "\t==> current loss[9]: -1173.5065873105495 / ploss: -1177.4212430419657 / best_loss: -1064.0261133334013\n",
      "\t==> current loss[10]: -1168.5558729946952 / ploss: -1173.5065873105495 / best_loss: -1064.0261133334013\n",
      "\t==> current loss[11]: -1160.4517471043746 / ploss: -1168.5558729946952 / best_loss: -1064.0261133334013\n",
      "\t==> current loss[12]: -1148.1630829511837 / ploss: -1160.4517471043746 / best_loss: -1064.0261133334013\n",
      "\t==> current loss[13]: -1137.5524667941331 / ploss: -1148.1630829511837 / best_loss: -1064.0261133334013\n",
      "\t==> current loss[14]: -1130.7681173188407 / ploss: -1137.5524667941331 / best_loss: -1064.0261133334013\n",
      "\t==> current loss[15]: -1124.718619082625 / ploss: -1130.7681173188407 / best_loss: -1064.0261133334013\n",
      "\t==> current loss[16]: -1117.9626186374599 / ploss: -1124.718619082625 / best_loss: -1064.0261133334013\n",
      "\t==> current loss[17]: -1109.9966960751894 / ploss: -1117.9626186374599 / best_loss: -1064.0261133334013\n",
      "\t==> current loss[18]: -1100.5542109050002 / ploss: -1109.9966960751894 / best_loss: -1064.0261133334013\n",
      "\t==> current loss[19]: -1091.0074441436002 / ploss: -1100.5542109050002 / best_loss: -1064.0261133334013\n",
      "\t==> current loss[20]: -1083.1060302041806 / ploss: -1091.0074441436002 / best_loss: -1064.0261133334013\n",
      "\t==> current loss[21]: -1077.6836819573318 / ploss: -1083.1060302041806 / best_loss: -1064.0261133334013\n",
      "\t==> current loss[22]: -1074.0780051376205 / ploss: -1077.6836819573318 / best_loss: -1064.0261133334013\n",
      "\t==> current loss[23]: -1071.2530097298306 / ploss: -1074.0780051376205 / best_loss: -1064.0261133334013\n",
      "\t==> current loss[24]: -1068.7633674266976 / ploss: -1071.2530097298306 / best_loss: -1064.0261133334013\n",
      "\t==> current loss[25]: -1066.6657954983984 / ploss: -1068.7633674266976 / best_loss: -1064.0261133334013\n",
      "\t==> current loss[26]: -1065.1727192602684 / ploss: -1066.6657954983984 / best_loss: -1064.0261133334013\n",
      "\t==> current loss[27]: -1064.3559416105902 / ploss: -1065.1727192602684 / best_loss: -1064.0261133334013\n",
      "range 8\n",
      "\t==> current loss[0]: -1228.0882931704627 / ploss: 1 / best_loss: -1064.0261133334013\n",
      "\t==> current loss[1]: -1203.3029334689725 / ploss: -1228.0882931704627 / best_loss: -1064.0261133334013\n",
      "\t==> current loss[2]: -1168.8843309325896 / ploss: -1203.3029334689725 / best_loss: -1064.0261133334013\n",
      "\t==> current loss[3]: -1148.0986668835737 / ploss: -1168.8843309325896 / best_loss: -1064.0261133334013\n",
      "\t==> current loss[4]: -1132.6339359853428 / ploss: -1148.0986668835737 / best_loss: -1064.0261133334013\n",
      "\t==> current loss[5]: -1108.6472942174682 / ploss: -1132.6339359853428 / best_loss: -1064.0261133334013\n",
      "\t==> current loss[6]: -1077.25299836743 / ploss: -1108.6472942174682 / best_loss: -1064.0261133334013\n",
      "\t==> current loss[7]: -1067.5057048274252 / ploss: -1077.25299836743 / best_loss: -1064.0261133334013\n",
      "\t==> current loss[8]: -1065.5269752240547 / ploss: -1067.5057048274252 / best_loss: -1064.0261133334013\n",
      "\t==> current loss[9]: -1064.5921007302536 / ploss: -1065.5269752240547 / best_loss: -1064.0261133334013\n",
      "range 9\n",
      "\t==> current loss[0]: -1225.5310591269833 / ploss: 1 / best_loss: -1064.0261133334013\n",
      "\t==> current loss[1]: -1194.8584050344125 / ploss: -1225.5310591269833 / best_loss: -1064.0261133334013\n",
      "\t==> current loss[2]: -1166.4447225968834 / ploss: -1194.8584050344125 / best_loss: -1064.0261133334013\n",
      "\t==> current loss[3]: -1147.7238625252853 / ploss: -1166.4447225968834 / best_loss: -1064.0261133334013\n",
      "\t==> current loss[4]: -1135.1750824340515 / ploss: -1147.7238625252853 / best_loss: -1064.0261133334013\n",
      "\t==> current loss[5]: -1126.3731089235628 / ploss: -1135.1750824340515 / best_loss: -1064.0261133334013\n",
      "\t==> current loss[6]: -1119.6667203368675 / ploss: -1126.3731089235628 / best_loss: -1064.0261133334013\n",
      "\t==> current loss[7]: -1114.119612080903 / ploss: -1119.6667203368675 / best_loss: -1064.0261133334013\n",
      "\t==> current loss[8]: -1109.2173082198183 / ploss: -1114.119612080903 / best_loss: -1064.0261133334013\n",
      "\t==> current loss[9]: -1104.8180210836522 / ploss: -1109.2173082198183 / best_loss: -1064.0261133334013\n",
      "\t==> current loss[10]: -1101.045115187141 / ploss: -1104.8180210836522 / best_loss: -1064.0261133334013\n",
      "\t==> current loss[11]: -1097.9707121099657 / ploss: -1101.045115187141 / best_loss: -1064.0261133334013\n",
      "\t==> current loss[12]: -1095.3296520261547 / ploss: -1097.9707121099657 / best_loss: -1064.0261133334013\n",
      "\t==> current loss[13]: -1092.6158176420295 / ploss: -1095.3296520261547 / best_loss: -1064.0261133334013\n",
      "\t==> current loss[14]: -1089.192563077563 / ploss: -1092.6158176420295 / best_loss: -1064.0261133334013\n",
      "\t==> current loss[15]: -1084.546060603359 / ploss: -1089.192563077563 / best_loss: -1064.0261133334013\n",
      "\t==> current loss[16]: -1079.1273951841697 / ploss: -1084.546060603359 / best_loss: -1064.0261133334013\n",
      "\t==> current loss[17]: -1071.8478607676643 / ploss: -1079.1273951841697 / best_loss: -1064.0261133334013\n",
      "\t==> current loss[18]: -1064.7876466331625 / ploss: -1071.8478607676643 / best_loss: -1064.0261133334013\n",
      "\t==> current loss[19]: -1063.9939305053883 / ploss: -1064.7876466331625 / best_loss: -1064.0261133334013\n",
      "Current answer for task Task 4 (EM) is: -1064.0261133334013\n"
     ]
    }
   ],
   "source": [
    "best_loss, best_pi, best_mu, best_sigma = train_EM(X, 3)\n",
    "grader.submit_EM(best_loss)"
   ]
  },
  {
   "cell_type": "markdown",
   "metadata": {
    "colab_type": "text",
    "id": "tYd6tPHKBEEd"
   },
   "source": [
    "If you implemented all the steps correctly, your algorithm should converge in about 20 iterations. Let's plot the clusters to see it. We will assign a cluster label as the most probable cluster index. This can be found using a matrix $\\gamma$ computed on last E-step. "
   ]
  },
  {
   "cell_type": "code",
   "execution_count": 20,
   "metadata": {
    "colab": {
     "base_uri": "https://localhost:8080/",
     "height": 265
    },
    "colab_type": "code",
    "id": "mK_M6QLnBEEe",
    "outputId": "cc09eed1-b1f4-4949-a7b9-149a6c5c13cd"
   },
   "outputs": [
    {
     "data": {
      "image/png": "[encoded data removed]",
      "text/plain": [
       "<Figure size 432x288 with 1 Axes>"
      ]
     },
     "metadata": {
      "tags": []
     },
     "output_type": "display_data"
    }
   ],
   "source": [
    "gamma = E_step(X, best_pi, best_mu, best_sigma)\n",
    "labels = gamma.argmax(axis=1)\n",
    "colors = np.array([(31, 119, 180), (255, 127, 14), (44, 160, 44)]) / 255.\n",
    "plt.scatter(X[:, 0], X[:, 1], c=colors[labels], s=30)\n",
    "plt.axis('equal')\n",
    "plt.show()"
   ]
  },
  {
   "cell_type": "markdown",
   "metadata": {
    "colab_type": "text",
    "id": "h4lnjrc7BEEl"
   },
   "source": [
    "# Authorization & Submission\n",
    "To submit assignment parts to Cousera platform, please, enter your e-mail and token into variables below. You can generate a token on this programming assignment's page. <b>Note:</b> The token expires 30 minutes after generation."
   ]
  },
  {
   "cell_type": "code",
   "execution_count": 21,
   "metadata": {
    "colab": {
     "base_uri": "https://localhost:8080/",
     "height": 146
    },
    "colab_type": "code",
    "id": "5uQRl29_BEEl",
    "outputId": "1600034b-978e-47f5-9648-a7b856a3990a"
   },
   "outputs": [
    {
     "name": "stdout",
     "output_type": "stream",
     "text": [
      "You want to submit these numbers:\n",
      "Task Task 1 (E-step): 0.5337178741081263\n",
      "Task Task 2 (M-step: mu): 2.899391882050383\n",
      "Task Task 2 (M-step: sigma): 5.977105216897526\n",
      "Task Task 2 (M-step: pi): 0.5507624459218776\n",
      "Task Task 3 (VLB): -1213.9734643060183\n",
      "Task Task 4 (EM): -1064.0261133334013\n"
     ]
    }
   ],
   "source": [
    "STUDENT_EMAIL = 'XXXXXXXXXXXXXXXXXXX' # EMAIL HERE\n",
    "STUDENT_TOKEN = 'XXXXXXXXXXXXXXXXXXX' # TOKEN HERE\n",
    "grader.status()"
   ]
  },
  {
   "cell_type": "markdown",
   "metadata": {
    "colab_type": "text",
    "id": "sNCsqNOiBEEn"
   },
   "source": [
    "If you want to submit these answers, run cell below"
   ]
  },
  {
   "cell_type": "code",
   "execution_count": 22,
   "metadata": {
    "colab": {
     "base_uri": "https://localhost:8080/",
     "height": 35
    },
    "colab_type": "code",
    "id": "3sc9imWNBEEo",
    "outputId": "6064f29d-f8f1-48fe-e225-b47d97fa5a0b"
   },
   "outputs": [
    {
     "name": "stdout",
     "output_type": "stream",
     "text": [
      "Submitted to Coursera platform. See results on assignment page!\n"
     ]
    }
   ],
   "source": [
    "grader.submit(STUDENT_EMAIL, STUDENT_TOKEN)"
   ]
  },
  {
   "cell_type": "code",
   "execution_count": 0,
   "metadata": {
    "colab": {},
    "colab_type": "code",
    "id": "V0-TvkW742z5"
   },
   "outputs": [],
   "source": []
  }
 ],
 "metadata": {
  "colab": {
   "collapsed_sections": [],
   "name": "Copy of em_assignment.ipynb",
   "provenance": [],
   "version": "0.3.2"
  },
  "kernelspec": {
   "display_name": "Python 3",
   "language": "python",
   "name": "python3"
  },
  "language_info": {
   "codemirror_mode": {
    "name": "ipython",
    "version": 3
   },
   "file_extension": ".py",
   "mimetype": "text/x-python",
   "name": "python",
   "nbconvert_exporter": "python",
   "pygments_lexer": "ipython3",
   "version": "3.5.2"
  }
 },
 "nbformat": 4,
 "nbformat_minor": 1
}
